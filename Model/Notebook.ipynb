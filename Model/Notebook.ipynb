{
 "cells": [
  {
   "cell_type": "markdown",
   "metadata": {},
   "source": [
    "# Presence Pridiction"
   ]
  },
  {
   "cell_type": "markdown",
   "metadata": {},
   "source": [
    "## Data Preparation"
   ]
  },
  {
   "cell_type": "markdown",
   "metadata": {},
   "source": [
    "### Data Exploring"
   ]
  },
  {
   "cell_type": "code",
   "execution_count": null,
   "metadata": {},
   "outputs": [],
   "source": [
    "# imports\n",
    "import pandas as pd\n",
    "import matplotlib.pyplot as plt\n",
    "import seaborn as sns\n",
    "import random\n",
    "import xgboost as xgb\n",
    "from sklearn.model_selection import train_test_split\n",
    "from sklearn.metrics import accuracy_score\n",
    "import pandas as pd\n",
    "from pandas.tseries.offsets import Week, WeekOfMonth, Day"
   ]
  },
  {
   "cell_type": "markdown",
   "metadata": {},
   "source": [
    "Load the csv"
   ]
  },
  {
   "cell_type": "code",
   "execution_count": 2,
   "metadata": {},
   "outputs": [],
   "source": [
    "data = pd.read_csv('personal_data.csv')"
   ]
  },
  {
   "cell_type": "code",
   "execution_count": 3,
   "metadata": {},
   "outputs": [
    {
     "name": "stdout",
     "output_type": "stream",
     "text": [
      "<class 'pandas.core.frame.DataFrame'>\n",
      "RangeIndex: 609536 entries, 0 to 609535\n",
      "Data columns (total 4 columns):\n",
      " #   Column                 Non-Null Count   Dtype \n",
      "---  ------                 --------------   ----- \n",
      " 0   IdPresenceDeclaration  609536 non-null  int64 \n",
      " 1   OperatorCode           609536 non-null  object\n",
      " 2   DeclarationDate        609536 non-null  object\n",
      " 3   IdPresenceState        609536 non-null  int64 \n",
      "dtypes: int64(2), object(2)\n",
      "memory usage: 18.6+ MB\n",
      "None\n"
     ]
    },
    {
     "data": {
      "text/html": [
       "<div>\n",
       "<style scoped>\n",
       "    .dataframe tbody tr th:only-of-type {\n",
       "        vertical-align: middle;\n",
       "    }\n",
       "\n",
       "    .dataframe tbody tr th {\n",
       "        vertical-align: top;\n",
       "    }\n",
       "\n",
       "    .dataframe thead th {\n",
       "        text-align: right;\n",
       "    }\n",
       "</style>\n",
       "<table border=\"1\" class=\"dataframe\">\n",
       "  <thead>\n",
       "    <tr style=\"text-align: right;\">\n",
       "      <th></th>\n",
       "      <th>IdPresenceDeclaration</th>\n",
       "      <th>OperatorCode</th>\n",
       "      <th>DeclarationDate</th>\n",
       "      <th>IdPresenceState</th>\n",
       "    </tr>\n",
       "  </thead>\n",
       "  <tbody>\n",
       "    <tr>\n",
       "      <th>0</th>\n",
       "      <td>1</td>\n",
       "      <td>10.00.12</td>\n",
       "      <td>2014-09-30 08:00:00</td>\n",
       "      <td>1</td>\n",
       "    </tr>\n",
       "    <tr>\n",
       "      <th>1</th>\n",
       "      <td>2</td>\n",
       "      <td>10.00.12</td>\n",
       "      <td>2014-09-30 12:00:00</td>\n",
       "      <td>2</td>\n",
       "    </tr>\n",
       "    <tr>\n",
       "      <th>2</th>\n",
       "      <td>3</td>\n",
       "      <td>10.00.12</td>\n",
       "      <td>2014-09-30 13:00:00</td>\n",
       "      <td>1</td>\n",
       "    </tr>\n",
       "    <tr>\n",
       "      <th>3</th>\n",
       "      <td>4</td>\n",
       "      <td>10.00.12</td>\n",
       "      <td>2014-09-30 17:00:00</td>\n",
       "      <td>2</td>\n",
       "    </tr>\n",
       "    <tr>\n",
       "      <th>4</th>\n",
       "      <td>257</td>\n",
       "      <td>10.00.12</td>\n",
       "      <td>2014-10-01 08:00:00</td>\n",
       "      <td>1</td>\n",
       "    </tr>\n",
       "  </tbody>\n",
       "</table>\n",
       "</div>"
      ],
      "text/plain": [
       "   IdPresenceDeclaration OperatorCode      DeclarationDate  IdPresenceState\n",
       "0                      1     10.00.12  2014-09-30 08:00:00                1\n",
       "1                      2     10.00.12  2014-09-30 12:00:00                2\n",
       "2                      3     10.00.12  2014-09-30 13:00:00                1\n",
       "3                      4     10.00.12  2014-09-30 17:00:00                2\n",
       "4                    257     10.00.12  2014-10-01 08:00:00                1"
      ]
     },
     "metadata": {},
     "output_type": "display_data"
    }
   ],
   "source": [
    "print(data.info())\n",
    "display(data.head())"
   ]
  },
  {
   "cell_type": "markdown",
   "metadata": {},
   "source": [
    "Dataset contains 609536 rows and 4 columns."
   ]
  },
  {
   "cell_type": "code",
   "execution_count": 4,
   "metadata": {},
   "outputs": [
    {
     "name": "stdout",
     "output_type": "stream",
     "text": [
      "IdPresenceDeclaration    0\n",
      "OperatorCode             0\n",
      "DeclarationDate          0\n",
      "IdPresenceState          0\n",
      "dtype: int64\n"
     ]
    }
   ],
   "source": [
    "print(data.isnull().sum())\n"
   ]
  },
  {
   "cell_type": "markdown",
   "metadata": {},
   "source": [
    "No null values."
   ]
  },
  {
   "cell_type": "code",
   "execution_count": 5,
   "metadata": {},
   "outputs": [
    {
     "name": "stdout",
     "output_type": "stream",
     "text": [
      "IdPresenceDeclaration: 609536 unique values\n",
      "OperatorCode: 64 unique values\n",
      "DeclarationDate: 9524 unique values\n",
      "IdPresenceState: 2 unique values\n"
     ]
    }
   ],
   "source": [
    "for col in data.columns:\n",
    "    print(f\"{col}: {data[col].nunique()} unique values\")\n"
   ]
  },
  {
   "cell_type": "markdown",
   "metadata": {},
   "source": [
    "We Have the presence data of 64 workers, with 609539 declartions, and With only 2 unique values, i assume this is a binary variable representing the state of presence 1 for present and 2 for absent. "
   ]
  },
  {
   "cell_type": "markdown",
   "metadata": {},
   "source": [
    "     Convert DeclarationDate to datetime"
   ]
  },
  {
   "cell_type": "code",
   "execution_count": 6,
   "metadata": {},
   "outputs": [
    {
     "name": "stdout",
     "output_type": "stream",
     "text": [
      "   IdPresenceDeclaration OperatorCode     DeclarationDate  IdPresenceState\n",
      "0                      1     10.00.12 2014-09-30 08:00:00                1\n",
      "1                      2     10.00.12 2014-09-30 12:00:00                2\n",
      "2                      3     10.00.12 2014-09-30 13:00:00                1\n",
      "3                      4     10.00.12 2014-09-30 17:00:00                2\n",
      "4                    257     10.00.12 2014-10-01 08:00:00                1\n"
     ]
    }
   ],
   "source": [
    "\n",
    "data['DeclarationDate'] = pd.to_datetime(data['DeclarationDate'])\n",
    "\n",
    "\n",
    "print(data.head())\n"
   ]
  },
  {
   "cell_type": "code",
   "execution_count": null,
   "metadata": {},
   "outputs": [
    {
     "name": "stdout",
     "output_type": "stream",
     "text": [
      "Days with both declarations: 152384\n",
      "Days with only start declaration: 0\n",
      "Percentage of days with both: 100.00%\n"
     ]
    }
   ],
   "source": [
    "data['Hour'] = data['DeclarationDate'].dt.hour\n",
    "data['Date'] = data['DeclarationDate'].dt.date\n",
    "\n",
    "declarations_at_8 = data[(data['Hour'] == 8)]\n",
    "declarations_at_17 = data[(data['Hour'] == 17)]\n",
    "\n",
    "\n",
    "merged_declarations = pd.merge(\n",
    "    declarations_at_8[['OperatorCode', 'Date']],\n",
    "    declarations_at_17[['OperatorCode', 'Date']],\n",
    "    on=['OperatorCode', 'Date'],\n",
    "    how='left',\n",
    "    indicator=True\n",
    ")\n",
    "\n",
    "\n",
    "both_present = merged_declarations[merged_declarations['_merge'] == 'both'].shape[0]\n",
    "only_start_present = merged_declarations[merged_declarations['_merge'] == 'left_only'].shape[0]\n",
    "\n",
    "print(f\"Days with both declarations: {both_present}\")\n",
    "print(f\"Days with only start declaration: {only_start_present}\")\n",
    "print(f\"Percentage of days with both: {both_present / len(declarations_at_8) * 100:.2f}%\")\n"
   ]
  },
  {
   "cell_type": "code",
   "execution_count": null,
   "metadata": {},
   "outputs": [
    {
     "data": {
      "image/png": "[encoded data removed]",
      "text/plain": [
       "<Figure size 1200x600 with 1 Axes>"
      ]
     },
     "metadata": {},
     "output_type": "display_data"
    }
   ],
   "source": [
    "unique_dates = data['Date'].unique()\n",
    "unique_dates = sorted(unique_dates)  \n",
    "\n",
    "# Create a DataFrame to count declarations for each date\n",
    "date_counts = data['Date'].value_counts().sort_index()\n",
    "\n",
    "\n",
    "plt.figure(figsize=(12, 6))\n",
    "plt.bar(date_counts.index, date_counts.values, color='skyblue', edgecolor='black')\n",
    "plt.title('Number of Declarations per Day', fontsize=14)\n",
    "plt.xlabel('Date', fontsize=12)\n",
    "plt.ylabel('Number of Declarations', fontsize=12)\n",
    "plt.xticks(rotation=45, fontsize=10)\n",
    "plt.tight_layout()\n",
    "plt.show()\n"
   ]
  },
  {
   "cell_type": "markdown",
   "metadata": {},
   "source": [
    "With this, we can assume that the data is continues, if there is a declaration on a particular day the worker is present, if there isnt the  worker is absent, we can simplify this by taking out the extra data which are the declarations past 8 am."
   ]
  },
  {
   "cell_type": "markdown",
   "metadata": {},
   "source": [
    "Also there seem to be some kind of global vacation"
   ]
  },
  {
   "cell_type": "code",
   "execution_count": null,
   "metadata": {},
   "outputs": [
    {
     "data": {
      "image/png": "[encoded data removed]",
      "text/plain": [
       "<Figure size 1600x1000 with 4 Axes>"
      ]
     },
     "metadata": {},
     "output_type": "display_data"
    }
   ],
   "source": [
    "\n",
    "data['Date'] = pd.to_datetime(data['Date'])\n",
    "\n",
    "years = [2015, 2016, 2017, 2018]\n",
    "data_filtered = data[data['Date'].dt.year.isin(years)]\n",
    "\n",
    "# Create subplots\n",
    "fig, axes = plt.subplots(2, 2, figsize=(16, 10), sharex=False, sharey=True)\n",
    "axes = axes.flatten()\n",
    "\n",
    "for i, year in enumerate(years):\n",
    "    year_data = data_filtered[data_filtered['Date'].dt.year == year]\n",
    "    date_counts = (year_data['Date'].value_counts().sort_index()) / 4\n",
    "    axes[i].bar(date_counts.index, date_counts.values, color='red', edgecolor='blue')\n",
    "    axes[i].set_title(f'Number of Declarations per Day in {year}', fontsize=14)\n",
    "    axes[i].set_xlabel('Date', fontsize=12)\n",
    "    axes[i].set_ylabel('Number of Declarations', fontsize=12)\n",
    "    axes[i].tick_params(axis='x', rotation=45, labelsize=10)\n",
    "\n",
    "plt.tight_layout()\n",
    "plt.show()\n"
   ]
  },
  {
   "cell_type": "markdown",
   "metadata": {},
   "source": [
    "So as we can see the company goes on a yearly vacation on the second friday of august and also on the third friday of December to the first monday of january"
   ]
  },
  {
   "cell_type": "code",
   "execution_count": null,
   "metadata": {},
   "outputs": [],
   "source": [
    "\n",
    "data['Date'] = data['DeclarationDate'].dt.date\n",
    "eight_am_declarations = data[data['DeclarationDate'].dt.hour == 8]\n",
    "simplified_data = eight_am_declarations.drop_duplicates(subset=['OperatorCode', 'Date'], keep='first')\n",
    "presence_per_day = simplified_data.groupby('Date')['OperatorCode'].nunique()\n"
   ]
  },
  {
   "cell_type": "code",
   "execution_count": null,
   "metadata": {},
   "outputs": [
    {
     "name": "stdout",
     "output_type": "stream",
     "text": [
      "    IdPresenceDeclaration OperatorCode     DeclarationDate  IdPresenceState  \\\n",
      "0                       1     10.00.12 2014-09-30 08:00:00                1   \n",
      "4                     257     10.00.12 2014-10-01 08:00:00                1   \n",
      "8                     513     10.00.12 2014-10-02 08:00:00                1   \n",
      "12                    769     10.00.12 2014-10-03 08:00:00                1   \n",
      "16                   1025     10.00.12 2014-10-06 08:00:00                1   \n",
      "\n",
      "    Hour        Date  \n",
      "0      8  2014-09-30  \n",
      "4      8  2014-10-01  \n",
      "8      8  2014-10-02  \n",
      "12     8  2014-10-03  \n",
      "16     8  2014-10-06  \n"
     ]
    }
   ],
   "source": [
    "print(simplified_data.head())"
   ]
  },
  {
   "cell_type": "code",
   "execution_count": 12,
   "metadata": {},
   "outputs": [
    {
     "name": "stdout",
     "output_type": "stream",
     "text": [
      "       IdPresenceDeclaration                DeclarationDate  IdPresenceState  \\\n",
      "count           152384.00000                         152384         152384.0   \n",
      "mean            304767.00000  2019-09-29 07:33:23.359932928              1.0   \n",
      "min                  1.00000            2014-09-30 08:00:00              1.0   \n",
      "25%             152384.00000            2017-03-30 08:00:00              1.0   \n",
      "50%             304767.00000            2019-09-27 08:00:00              1.0   \n",
      "75%             457150.00000            2022-04-01 08:00:00              1.0   \n",
      "max             609533.00000            2024-09-30 08:00:00              1.0   \n",
      "std             175958.46419                            NaN              0.0   \n",
      "\n",
      "           Hour  \n",
      "count  152384.0  \n",
      "mean        8.0  \n",
      "min         8.0  \n",
      "25%         8.0  \n",
      "50%         8.0  \n",
      "75%         8.0  \n",
      "max         8.0  \n",
      "std         0.0  \n"
     ]
    }
   ],
   "source": [
    "print(simplified_data.describe())"
   ]
  },
  {
   "cell_type": "code",
   "execution_count": 13,
   "metadata": {},
   "outputs": [],
   "source": [
    "min_date = simplified_data['DeclarationDate'].min()\n",
    "max_date = simplified_data['DeclarationDate'].max()"
   ]
  },
  {
   "cell_type": "code",
   "execution_count": 14,
   "metadata": {},
   "outputs": [
    {
     "name": "stdout",
     "output_type": "stream",
     "text": [
      "2014-09-30 08:00:00\n",
      "2024-09-30 08:00:00\n"
     ]
    }
   ],
   "source": [
    "print(min_date)\n",
    "print(max_date)"
   ]
  },
  {
   "cell_type": "markdown",
   "metadata": {},
   "source": [
    "10 years of data"
   ]
  },
  {
   "cell_type": "code",
   "execution_count": 15,
   "metadata": {},
   "outputs": [
    {
     "data": {
      "text/plain": [
       "609536.0"
      ]
     },
     "execution_count": 15,
     "metadata": {},
     "output_type": "execute_result"
    }
   ],
   "source": [
    "152384.00000  *4"
   ]
  },
  {
   "cell_type": "markdown",
   "metadata": {},
   "source": [
    "we can see that we simplifed the data by 4, we removed the \"redundencies\", 609536 is the number of all declarations, 4 is the number of declarations per day."
   ]
  },
  {
   "cell_type": "markdown",
   "metadata": {},
   "source": [
    "Moving on, i want to create absent/present dataset"
   ]
  },
  {
   "cell_type": "markdown",
   "metadata": {},
   "source": [
    "But first i want to take vacations out of the data set, **Excluding these periods to ensure the model learns absence patterns based on operational days, unaffected by pre-determined vacations.**"
   ]
  },
  {
   "cell_type": "code",
   "execution_count": null,
   "metadata": {},
   "outputs": [
    {
     "name": "stdout",
     "output_type": "stream",
     "text": [
      "Vacation for 2014: August 2014-08-08 to 2014-08-23, December 2014-12-19 to 2015-01-05\n",
      "Vacation for 2015: August 2015-08-14 to 2015-08-29, December 2015-12-18 to 2016-01-04\n",
      "Vacation for 2016: August 2016-08-12 to 2016-08-27, December 2016-12-16 to 2017-01-02\n",
      "Vacation for 2017: August 2017-08-11 to 2017-08-26, December 2017-12-15 to 2018-01-01\n",
      "Vacation for 2018: August 2018-08-10 to 2018-08-25, December 2018-12-21 to 2019-01-07\n",
      "Vacation for 2019: August 2019-08-09 to 2019-08-24, December 2019-12-20 to 2020-01-06\n",
      "Vacation for 2020: August 2020-08-14 to 2020-08-29, December 2020-12-18 to 2021-01-04\n",
      "Vacation for 2021: August 2021-08-13 to 2021-08-28, December 2021-12-17 to 2022-01-03\n",
      "Vacation for 2022: August 2022-08-12 to 2022-08-27, December 2022-12-16 to 2023-01-02\n",
      "Vacation for 2023: August 2023-08-11 to 2023-08-26, December 2023-12-15 to 2024-01-01\n",
      "Vacation for 2024: August 2024-08-09 to 2024-08-24, December 2024-12-20 to 2025-01-06\n",
      "Vacation Ranges:  [(Timestamp('2014-08-08 00:00:00'), Timestamp('2014-08-23 00:00:00')), (Timestamp('2014-12-19 00:00:00'), Timestamp('2015-01-05 00:00:00')), (Timestamp('2015-08-14 00:00:00'), Timestamp('2015-08-29 00:00:00')), (Timestamp('2015-12-18 00:00:00'), Timestamp('2016-01-04 00:00:00')), (Timestamp('2016-08-12 00:00:00'), Timestamp('2016-08-27 00:00:00')), (Timestamp('2016-12-16 00:00:00'), Timestamp('2017-01-02 00:00:00')), (Timestamp('2017-08-11 00:00:00'), Timestamp('2017-08-26 00:00:00')), (Timestamp('2017-12-15 00:00:00'), Timestamp('2018-01-01 00:00:00')), (Timestamp('2018-08-10 00:00:00'), Timestamp('2018-08-25 00:00:00')), (Timestamp('2018-12-21 00:00:00'), Timestamp('2019-01-07 00:00:00')), (Timestamp('2019-08-09 00:00:00'), Timestamp('2019-08-24 00:00:00')), (Timestamp('2019-12-20 00:00:00'), Timestamp('2020-01-06 00:00:00')), (Timestamp('2020-08-14 00:00:00'), Timestamp('2020-08-29 00:00:00')), (Timestamp('2020-12-18 00:00:00'), Timestamp('2021-01-04 00:00:00')), (Timestamp('2021-08-13 00:00:00'), Timestamp('2021-08-28 00:00:00')), (Timestamp('2021-12-17 00:00:00'), Timestamp('2022-01-03 00:00:00')), (Timestamp('2022-08-12 00:00:00'), Timestamp('2022-08-27 00:00:00')), (Timestamp('2022-12-16 00:00:00'), Timestamp('2023-01-02 00:00:00')), (Timestamp('2023-08-11 00:00:00'), Timestamp('2023-08-26 00:00:00')), (Timestamp('2023-12-15 00:00:00'), Timestamp('2024-01-01 00:00:00')), (Timestamp('2024-08-09 00:00:00'), Timestamp('2024-08-24 00:00:00')), (Timestamp('2024-12-20 00:00:00'), Timestamp('2025-01-06 00:00:00'))]\n",
      "Before exclusion: 152384 rows\n",
      "After exclusion: 148928 rows\n",
      "Removed 3456 rows due to vacation periods.\n"
     ]
    }
   ],
   "source": [
    "\n",
    "simplified_data['Date'] = pd.to_datetime(simplified_data['Date'])\n",
    "\n",
    "\n",
    "def get_vacation_ranges(year):\n",
    "    \n",
    "    aug_start = pd.Timestamp(year=year, month=8, day=1) + pd.DateOffset(weekday=4, n=0)  \n",
    "    aug_start = aug_start + pd.Timedelta(days=7)  \n",
    "    aug_end = aug_start + pd.Timedelta(days=15)  \n",
    "    \n",
    "    \n",
    "    dec_start = pd.Timestamp(year=year, month=12, day=1) + pd.DateOffset(weekday=4, n=0)  \n",
    "    dec_start = dec_start + pd.Timedelta(days=14)  \n",
    "    jan_first_monday = pd.Timestamp(year=year + 1, month=1, day=1) + pd.DateOffset(weekday=0)  \n",
    "    \n",
    "    \n",
    "    print(f\"Vacation for {year}: August {aug_start.date()} to {aug_end.date()}, December {dec_start.date()} to {jan_first_monday.date()}\")\n",
    "    \n",
    "    return [(aug_start, aug_end), (dec_start, jan_first_monday)]\n",
    "\n",
    "\n",
    "vacation_ranges = []\n",
    "for year in simplified_data['Date'].dt.year.unique():\n",
    "    vacation_ranges.extend(get_vacation_ranges(year))\n",
    "\n",
    "\n",
    "exclude_mask = pd.Series(False, index=simplified_data.index)\n",
    "\n",
    "\n",
    "print(\"Vacation Ranges: \", vacation_ranges)\n",
    "\n",
    "\n",
    "for start, end in vacation_ranges:\n",
    "    exclude_mask |= (simplified_data['Date'] >= start) & (simplified_data['Date'] < end)\n",
    "\n",
    "\n",
    "print(f\"Before exclusion: {simplified_data.shape[0]} rows\")\n",
    "simplified_data = simplified_data[~exclude_mask]\n",
    "print(f\"After exclusion: {simplified_data.shape[0]} rows\")\n",
    "\n",
    "\n",
    "print(f\"Removed {exclude_mask.sum()} rows due to vacation periods.\")\n"
   ]
  },
  {
   "cell_type": "markdown",
   "metadata": {},
   "source": [
    "Creating the Present/Absent Dataset"
   ]
  },
  {
   "cell_type": "code",
   "execution_count": 17,
   "metadata": {},
   "outputs": [
    {
     "data": {
      "text/html": [
       "<div>\n",
       "<style scoped>\n",
       "    .dataframe tbody tr th:only-of-type {\n",
       "        vertical-align: middle;\n",
       "    }\n",
       "\n",
       "    .dataframe tbody tr th {\n",
       "        vertical-align: top;\n",
       "    }\n",
       "\n",
       "    .dataframe thead th {\n",
       "        text-align: right;\n",
       "    }\n",
       "</style>\n",
       "<table border=\"1\" class=\"dataframe\">\n",
       "  <thead>\n",
       "    <tr style=\"text-align: right;\">\n",
       "      <th></th>\n",
       "      <th>IdPresenceDeclaration</th>\n",
       "      <th>OperatorCode</th>\n",
       "      <th>DeclarationDate</th>\n",
       "      <th>IdPresenceState</th>\n",
       "      <th>Hour</th>\n",
       "      <th>Date</th>\n",
       "    </tr>\n",
       "  </thead>\n",
       "  <tbody>\n",
       "    <tr>\n",
       "      <th>0</th>\n",
       "      <td>1</td>\n",
       "      <td>10.00.12</td>\n",
       "      <td>2014-09-30 08:00:00</td>\n",
       "      <td>1</td>\n",
       "      <td>8</td>\n",
       "      <td>2014-09-30</td>\n",
       "    </tr>\n",
       "    <tr>\n",
       "      <th>4</th>\n",
       "      <td>257</td>\n",
       "      <td>10.00.12</td>\n",
       "      <td>2014-10-01 08:00:00</td>\n",
       "      <td>1</td>\n",
       "      <td>8</td>\n",
       "      <td>2014-10-01</td>\n",
       "    </tr>\n",
       "    <tr>\n",
       "      <th>8</th>\n",
       "      <td>513</td>\n",
       "      <td>10.00.12</td>\n",
       "      <td>2014-10-02 08:00:00</td>\n",
       "      <td>1</td>\n",
       "      <td>8</td>\n",
       "      <td>2014-10-02</td>\n",
       "    </tr>\n",
       "    <tr>\n",
       "      <th>12</th>\n",
       "      <td>769</td>\n",
       "      <td>10.00.12</td>\n",
       "      <td>2014-10-03 08:00:00</td>\n",
       "      <td>1</td>\n",
       "      <td>8</td>\n",
       "      <td>2014-10-03</td>\n",
       "    </tr>\n",
       "    <tr>\n",
       "      <th>16</th>\n",
       "      <td>1025</td>\n",
       "      <td>10.00.12</td>\n",
       "      <td>2014-10-06 08:00:00</td>\n",
       "      <td>1</td>\n",
       "      <td>8</td>\n",
       "      <td>2014-10-06</td>\n",
       "    </tr>\n",
       "    <tr>\n",
       "      <th>...</th>\n",
       "      <td>...</td>\n",
       "      <td>...</td>\n",
       "      <td>...</td>\n",
       "      <td>...</td>\n",
       "      <td>...</td>\n",
       "      <td>...</td>\n",
       "    </tr>\n",
       "    <tr>\n",
       "      <th>1008</th>\n",
       "      <td>64513</td>\n",
       "      <td>10.00.12</td>\n",
       "      <td>2015-10-21 08:00:00</td>\n",
       "      <td>1</td>\n",
       "      <td>8</td>\n",
       "      <td>2015-10-21</td>\n",
       "    </tr>\n",
       "    <tr>\n",
       "      <th>1012</th>\n",
       "      <td>64769</td>\n",
       "      <td>10.00.12</td>\n",
       "      <td>2015-10-22 08:00:00</td>\n",
       "      <td>1</td>\n",
       "      <td>8</td>\n",
       "      <td>2015-10-22</td>\n",
       "    </tr>\n",
       "    <tr>\n",
       "      <th>1016</th>\n",
       "      <td>65025</td>\n",
       "      <td>10.00.12</td>\n",
       "      <td>2015-10-23 08:00:00</td>\n",
       "      <td>1</td>\n",
       "      <td>8</td>\n",
       "      <td>2015-10-23</td>\n",
       "    </tr>\n",
       "    <tr>\n",
       "      <th>1020</th>\n",
       "      <td>65281</td>\n",
       "      <td>10.00.12</td>\n",
       "      <td>2015-10-26 08:00:00</td>\n",
       "      <td>1</td>\n",
       "      <td>8</td>\n",
       "      <td>2015-10-26</td>\n",
       "    </tr>\n",
       "    <tr>\n",
       "      <th>1024</th>\n",
       "      <td>65537</td>\n",
       "      <td>10.00.12</td>\n",
       "      <td>2015-10-27 08:00:00</td>\n",
       "      <td>1</td>\n",
       "      <td>8</td>\n",
       "      <td>2015-10-27</td>\n",
       "    </tr>\n",
       "  </tbody>\n",
       "</table>\n",
       "<p>250 rows × 6 columns</p>\n",
       "</div>"
      ],
      "text/plain": [
       "      IdPresenceDeclaration OperatorCode     DeclarationDate  IdPresenceState  \\\n",
       "0                         1     10.00.12 2014-09-30 08:00:00                1   \n",
       "4                       257     10.00.12 2014-10-01 08:00:00                1   \n",
       "8                       513     10.00.12 2014-10-02 08:00:00                1   \n",
       "12                      769     10.00.12 2014-10-03 08:00:00                1   \n",
       "16                     1025     10.00.12 2014-10-06 08:00:00                1   \n",
       "...                     ...          ...                 ...              ...   \n",
       "1008                  64513     10.00.12 2015-10-21 08:00:00                1   \n",
       "1012                  64769     10.00.12 2015-10-22 08:00:00                1   \n",
       "1016                  65025     10.00.12 2015-10-23 08:00:00                1   \n",
       "1020                  65281     10.00.12 2015-10-26 08:00:00                1   \n",
       "1024                  65537     10.00.12 2015-10-27 08:00:00                1   \n",
       "\n",
       "      Hour       Date  \n",
       "0        8 2014-09-30  \n",
       "4        8 2014-10-01  \n",
       "8        8 2014-10-02  \n",
       "12       8 2014-10-03  \n",
       "16       8 2014-10-06  \n",
       "...    ...        ...  \n",
       "1008     8 2015-10-21  \n",
       "1012     8 2015-10-22  \n",
       "1016     8 2015-10-23  \n",
       "1020     8 2015-10-26  \n",
       "1024     8 2015-10-27  \n",
       "\n",
       "[250 rows x 6 columns]"
      ]
     },
     "execution_count": 17,
     "metadata": {},
     "output_type": "execute_result"
    }
   ],
   "source": [
    "simplified_data.head(250)"
   ]
  },
  {
   "cell_type": "code",
   "execution_count": null,
   "metadata": {},
   "outputs": [],
   "source": [
    "\n",
    "simplified_data['DeclarationDate'] = pd.to_datetime(simplified_data['DeclarationDate']).dt.date\n",
    "\n",
    "\n",
    "result = []\n",
    "\n",
    "\n",
    "for operator_code in simplified_data['OperatorCode'].unique():\n",
    "    \n",
    "    worker_data = simplified_data[simplified_data['OperatorCode'] == operator_code]\n",
    "    \n",
    "    \n",
    "    start_date = worker_data['DeclarationDate'].min()\n",
    "    end_date = worker_data['DeclarationDate'].max()\n",
    "    \n",
    "    \n",
    "    all_days = pd.date_range(start=start_date, end=end_date, freq='B').date  \n",
    "    \n",
    "    \n",
    "    presence = []\n",
    "    \n",
    "    for day in all_days:\n",
    "        \n",
    "        if day in worker_data['DeclarationDate'].values:\n",
    "            \n",
    "            presence.append(1)\n",
    "        else:\n",
    "            \n",
    "            presence.append(0)\n",
    "    \n",
    "    \n",
    "    for day, pres in zip(all_days, presence):\n",
    "        result.append({'OperatorCode': operator_code, 'Date': day, 'Presence': pres})\n",
    "\n",
    "\n",
    "result_df = pd.DataFrame(result)\n",
    "\n"
   ]
  },
  {
   "cell_type": "code",
   "execution_count": null,
   "metadata": {},
   "outputs": [
    {
     "name": "stdout",
     "output_type": "stream",
     "text": [
      "Removed 14080 rows from result_df due to vacation periods.\n"
     ]
    }
   ],
   "source": [
    "\n",
    "result_df['Date'] = pd.to_datetime(result_df['Date'])\n",
    "\n",
    "\n",
    "exclude_mask = pd.Series(False, index=result_df.index)\n",
    "for start, end in vacation_ranges:\n",
    "    exclude_mask |= (result_df['Date'] >= start) & (result_df['Date'] < end)\n",
    "\n",
    "\n",
    "result_df = result_df[~exclude_mask]\n",
    "\n",
    "\n",
    "print(f\"Removed {exclude_mask.sum()} rows from result_df due to vacation periods.\")\n"
   ]
  },
  {
   "cell_type": "code",
   "execution_count": null,
   "metadata": {},
   "outputs": [
    {
     "name": "stdout",
     "output_type": "stream",
     "text": [
      "   OperatorCode  Absences\n",
      "0      10.00.12        63\n",
      "1      10.00.15        63\n",
      "2      10.00.19        63\n",
      "3      10.00.20        63\n",
      "4      10.00.24        63\n",
      "..          ...       ...\n",
      "59          COL        63\n",
      "60         CURV        63\n",
      "61          LON        63\n",
      "62          MAG        63\n",
      "63         PROD        63\n",
      "\n",
      "[64 rows x 2 columns]\n"
     ]
    }
   ],
   "source": [
    "\n",
    "absent_days = result_df[result_df['Presence'] == 0].groupby('OperatorCode').size().reset_index(name='Absences')\n",
    "\n",
    "\n",
    "print(absent_days)"
   ]
  },
  {
   "cell_type": "code",
   "execution_count": null,
   "metadata": {},
   "outputs": [
    {
     "name": "stdout",
     "output_type": "stream",
     "text": [
      "5 random absent days for the first worker:\n",
      "2022-06-02 00:00:00\n",
      "2020-08-11 00:00:00\n",
      "2021-12-08 00:00:00\n",
      "2016-01-06 00:00:00\n",
      "2016-03-28 00:00:00\n"
     ]
    }
   ],
   "source": [
    "first_worker_data = result_df[result_df['OperatorCode'] == result_df['OperatorCode'].iloc[0]]\n",
    "\n",
    "\n",
    "absent_days_for_first_worker = first_worker_data[first_worker_data['Presence'] == 0]['Date'].tolist()\n",
    "\n",
    "\n",
    "random_absent_days = random.sample(absent_days_for_first_worker, 5)\n",
    "\n",
    "print(\"5 random absent days for the first worker:\")\n",
    "for day in random_absent_days:\n",
    "    print(day)"
   ]
  },
  {
   "cell_type": "markdown",
   "metadata": {},
   "source": [
    "With this we cleaned our data from vacation periods, now every worker has an absence of 93 days"
   ]
  },
  {
   "cell_type": "markdown",
   "metadata": {},
   "source": [
    "Understading what we have"
   ]
  },
  {
   "cell_type": "code",
   "execution_count": null,
   "metadata": {},
   "outputs": [],
   "source": [
    "\n",
    "result_df['Date'] = pd.to_datetime(result_df['Date'])\n",
    "\n",
    "\n",
    "result_df['DayOfWeek'] = result_df['Date'].dt.day_name()\n",
    "\n",
    "\n",
    "absences_df = result_df[result_df['Presence'] == 0]\n"
   ]
  },
  {
   "cell_type": "code",
   "execution_count": 24,
   "metadata": {},
   "outputs": [
    {
     "data": {
      "text/html": [
       "<div>\n",
       "<style scoped>\n",
       "    .dataframe tbody tr th:only-of-type {\n",
       "        vertical-align: middle;\n",
       "    }\n",
       "\n",
       "    .dataframe tbody tr th {\n",
       "        vertical-align: top;\n",
       "    }\n",
       "\n",
       "    .dataframe thead th {\n",
       "        text-align: right;\n",
       "    }\n",
       "</style>\n",
       "<table border=\"1\" class=\"dataframe\">\n",
       "  <thead>\n",
       "    <tr style=\"text-align: right;\">\n",
       "      <th></th>\n",
       "      <th>OperatorCode</th>\n",
       "      <th>Date</th>\n",
       "      <th>Presence</th>\n",
       "      <th>DayOfWeek</th>\n",
       "    </tr>\n",
       "  </thead>\n",
       "  <tbody>\n",
       "    <tr>\n",
       "      <th>0</th>\n",
       "      <td>10.00.12</td>\n",
       "      <td>2014-09-30</td>\n",
       "      <td>1</td>\n",
       "      <td>Tuesday</td>\n",
       "    </tr>\n",
       "    <tr>\n",
       "      <th>1</th>\n",
       "      <td>10.00.12</td>\n",
       "      <td>2014-10-01</td>\n",
       "      <td>1</td>\n",
       "      <td>Wednesday</td>\n",
       "    </tr>\n",
       "    <tr>\n",
       "      <th>2</th>\n",
       "      <td>10.00.12</td>\n",
       "      <td>2014-10-02</td>\n",
       "      <td>1</td>\n",
       "      <td>Thursday</td>\n",
       "    </tr>\n",
       "    <tr>\n",
       "      <th>3</th>\n",
       "      <td>10.00.12</td>\n",
       "      <td>2014-10-03</td>\n",
       "      <td>1</td>\n",
       "      <td>Friday</td>\n",
       "    </tr>\n",
       "    <tr>\n",
       "      <th>4</th>\n",
       "      <td>10.00.12</td>\n",
       "      <td>2014-10-06</td>\n",
       "      <td>1</td>\n",
       "      <td>Monday</td>\n",
       "    </tr>\n",
       "  </tbody>\n",
       "</table>\n",
       "</div>"
      ],
      "text/plain": [
       "  OperatorCode       Date  Presence  DayOfWeek\n",
       "0     10.00.12 2014-09-30         1    Tuesday\n",
       "1     10.00.12 2014-10-01         1  Wednesday\n",
       "2     10.00.12 2014-10-02         1   Thursday\n",
       "3     10.00.12 2014-10-03         1     Friday\n",
       "4     10.00.12 2014-10-06         1     Monday"
      ]
     },
     "execution_count": 24,
     "metadata": {},
     "output_type": "execute_result"
    }
   ],
   "source": [
    "result_df.head()"
   ]
  },
  {
   "cell_type": "code",
   "execution_count": 25,
   "metadata": {},
   "outputs": [
    {
     "data": {
      "text/plain": [
       "4032"
      ]
     },
     "execution_count": 25,
     "metadata": {},
     "output_type": "execute_result"
    }
   ],
   "source": [
    "len(absences_df)"
   ]
  },
  {
   "cell_type": "code",
   "execution_count": null,
   "metadata": {},
   "outputs": [],
   "source": [
    "\n",
    "absences_by_day_of_week = absences_df.groupby('DayOfWeek').size()\n",
    "\n",
    "\n",
    "day_order = ['Monday', 'Tuesday', 'Wednesday', 'Thursday', 'Friday']\n",
    "\n",
    "\n",
    "absences_by_day_of_week = absences_by_day_of_week[day_order]\n"
   ]
  },
  {
   "cell_type": "code",
   "execution_count": null,
   "metadata": {},
   "outputs": [
    {
     "data": {
      "image/png": "[encoded data removed]",
      "text/plain": [
       "<Figure size 1000x600 with 1 Axes>"
      ]
     },
     "metadata": {},
     "output_type": "display_data"
    }
   ],
   "source": [
    "\n",
    "plt.figure(figsize=(10, 6))\n",
    "absences_by_day_of_week.plot(kind='bar', color='lightcoral')\n",
    "\n",
    "\n",
    "plt.title('Cumulative Absences by Day of the Week (All Workers)', fontsize=16)\n",
    "plt.xlabel('Day of the Week', fontsize=12)\n",
    "plt.ylabel('Number of Absences', fontsize=12)\n",
    "plt.xticks(rotation=45)\n",
    "plt.tight_layout()\n",
    "\n",
    "\n",
    "plt.show()"
   ]
  },
  {
   "cell_type": "markdown",
   "metadata": {},
   "source": [
    "We can see the trend , the absence tend to be more twords the Start of the week"
   ]
  },
  {
   "cell_type": "code",
   "execution_count": null,
   "metadata": {},
   "outputs": [
    {
     "name": "stderr",
     "output_type": "stream",
     "text": [
      "C:\\Users\\LENOVO\\AppData\\Local\\Temp\\ipykernel_7484\\4247693132.py:2: SettingWithCopyWarning: \n",
      "A value is trying to be set on a copy of a slice from a DataFrame.\n",
      "Try using .loc[row_indexer,col_indexer] = value instead\n",
      "\n",
      "See the caveats in the documentation: https://pandas.pydata.org/pandas-docs/stable/user_guide/indexing.html#returning-a-view-versus-a-copy\n",
      "  absences_df['DayOfMonth'] = absences_df['Date'].dt.day\n"
     ]
    }
   ],
   "source": [
    "\n",
    "absences_df['DayOfMonth'] = absences_df['Date'].dt.day\n",
    "\n",
    "absences_by_day_of_month = absences_df.groupby('DayOfMonth').size()\n"
   ]
  },
  {
   "cell_type": "code",
   "execution_count": null,
   "metadata": {},
   "outputs": [
    {
     "data": {
      "image/png": "[encoded data removed]",
      "text/plain": [
       "<Figure size 1000x600 with 1 Axes>"
      ]
     },
     "metadata": {},
     "output_type": "display_data"
    }
   ],
   "source": [
    "\n",
    "plt.figure(figsize=(10, 6))\n",
    "absences_by_day_of_month.plot(kind='bar', color='lightcoral')\n",
    "\n",
    "\n",
    "plt.title('Cumulative Absences by Day of the Month', fontsize=16)\n",
    "plt.xlabel('Day of the Month', fontsize=12)\n",
    "plt.ylabel('Number of Absences', fontsize=12)\n",
    "plt.xticks(rotation=45)\n",
    "plt.tight_layout()\n",
    "\n",
    "\n",
    "plt.show()"
   ]
  },
  {
   "cell_type": "markdown",
   "metadata": {},
   "source": [
    "The day of the month can also be a good Feature to work with"
   ]
  },
  {
   "cell_type": "code",
   "execution_count": null,
   "metadata": {},
   "outputs": [
    {
     "name": "stderr",
     "output_type": "stream",
     "text": [
      "C:\\Users\\LENOVO\\AppData\\Local\\Temp\\ipykernel_7484\\1012934570.py:2: SettingWithCopyWarning: \n",
      "A value is trying to be set on a copy of a slice from a DataFrame.\n",
      "Try using .loc[row_indexer,col_indexer] = value instead\n",
      "\n",
      "See the caveats in the documentation: https://pandas.pydata.org/pandas-docs/stable/user_guide/indexing.html#returning-a-view-versus-a-copy\n",
      "  absences_df['WeekOfMonth'] = absences_df['Date'].apply(lambda x: (x.day - 1) // 7+1 )\n"
     ]
    }
   ],
   "source": [
    "\n",
    "absences_df['WeekOfMonth'] = absences_df['Date'].apply(lambda x: (x.day - 1) // 7+1 )\n",
    "\n",
    "absences_by_week_of_month = absences_df.groupby('WeekOfMonth').size()\n"
   ]
  },
  {
   "cell_type": "code",
   "execution_count": null,
   "metadata": {},
   "outputs": [
    {
     "data": {
      "image/png": "[encoded data removed]",
      "text/plain": [
       "<Figure size 1000x600 with 1 Axes>"
      ]
     },
     "metadata": {},
     "output_type": "display_data"
    }
   ],
   "source": [
    "\n",
    "plt.figure(figsize=(10, 6))\n",
    "absences_by_week_of_month.plot(kind='bar', color='lightblue')\n",
    "\n",
    "\n",
    "plt.title('Cumulative Absences by Week of the Month', fontsize=16)\n",
    "plt.xlabel('Week of the Month', fontsize=12)\n",
    "plt.ylabel('Number of Absences', fontsize=12)\n",
    "plt.xticks(rotation=0)\n",
    "plt.tight_layout()\n",
    "\n",
    "\n",
    "plt.show()"
   ]
  },
  {
   "cell_type": "code",
   "execution_count": null,
   "metadata": {},
   "outputs": [
    {
     "name": "stderr",
     "output_type": "stream",
     "text": [
      "C:\\Users\\LENOVO\\AppData\\Local\\Temp\\ipykernel_7484\\456221551.py:2: SettingWithCopyWarning: \n",
      "A value is trying to be set on a copy of a slice from a DataFrame.\n",
      "Try using .loc[row_indexer,col_indexer] = value instead\n",
      "\n",
      "See the caveats in the documentation: https://pandas.pydata.org/pandas-docs/stable/user_guide/indexing.html#returning-a-view-versus-a-copy\n",
      "  absences_df['Month'] = absences_df['Date'].dt.month\n"
     ]
    },
    {
     "data": {
      "image/png": "[encoded data removed]",
      "text/plain": [
       "<Figure size 1200x600 with 1 Axes>"
      ]
     },
     "metadata": {},
     "output_type": "display_data"
    }
   ],
   "source": [
    "\n",
    "absences_df['Month'] = absences_df['Date'].dt.month\n",
    "\n",
    "\n",
    "absences_by_month = absences_df.groupby('Month').size()\n",
    "\n",
    "\n",
    "plt.figure(figsize=(12, 6))\n",
    "absences_by_month.plot(kind='bar', color='lightblue')\n",
    "\n",
    "\n",
    "plt.title('Cumulative Absences by Month', fontsize=16)\n",
    "plt.xlabel('Month', fontsize=12)\n",
    "plt.ylabel('Number of Absences', fontsize=12)\n",
    "plt.xticks(rotation=0)\n",
    "plt.tight_layout()\n",
    "\n",
    "\n",
    "plt.show()\n"
   ]
  },
  {
   "cell_type": "markdown",
   "metadata": {},
   "source": [
    "With this, we can see that from the date given we can get a probabilty wether an employee will absent or present."
   ]
  },
  {
   "cell_type": "markdown",
   "metadata": {},
   "source": [
    "The features we will be using are date, we will extract day of month and week, month, and week to make our prediction."
   ]
  },
  {
   "cell_type": "code",
   "execution_count": 33,
   "metadata": {},
   "outputs": [],
   "source": [
    "result_df.to_csv(\"Dataset.csv\")"
   ]
  },
  {
   "cell_type": "markdown",
   "metadata": {},
   "source": [
    "# Model training"
   ]
  },
  {
   "cell_type": "code",
   "execution_count": 49,
   "metadata": {},
   "outputs": [],
   "source": [
    "import xgboost as xgb\n",
    "from sklearn.model_selection import train_test_split\n",
    "from sklearn.metrics import accuracy_score\n",
    "from sklearn.metrics import f1_score\n",
    "import numpy as np"
   ]
  },
  {
   "cell_type": "code",
   "execution_count": 111,
   "metadata": {},
   "outputs": [],
   "source": [
    "\n",
    "result_df['DayOfWeek'] = result_df['Date'].dt.dayofweek\n",
    "\n",
    "\n",
    "result_df['DayOfMonth'] = result_df['Date'].dt.day\n",
    "\n",
    "result_df['WeekOfMonth'] = (np.ceil(result_df['DayOfMonth'] / 7)).astype(int)\n",
    "\n",
    "\n",
    "result_df['Month'] = result_df['Date'].dt.month\n",
    "\n",
    "\n",
    "features = ['DayOfWeek', 'DayOfMonth', 'WeekOfMonth', 'Month']\n",
    "X = result_df[features]\n",
    "y = result_df['Presence']"
   ]
  },
  {
   "cell_type": "code",
   "execution_count": 112,
   "metadata": {},
   "outputs": [],
   "source": [
    "X_train, X_test, y_train, y_test = train_test_split(X, y, test_size=0.2, random_state=42)"
   ]
  },
  {
   "cell_type": "code",
   "execution_count": null,
   "metadata": {},
   "outputs": [
    {
     "name": "stderr",
     "output_type": "stream",
     "text": [
      "c:\\Users\\LENOVO\\AppData\\Local\\Programs\\Python\\Python312\\Lib\\site-packages\\xgboost\\core.py:158: UserWarning: [12:38:37] WARNING: C:\\buildkite-agent\\builds\\buildkite-windows-cpu-autoscaling-group-i-0ed59c031377d09b8-1\\xgboost\\xgboost-ci-windows\\src\\learner.cc:740: \n",
      "Parameters: { \"use_label_encoder\" } are not used.\n",
      "\n",
      "  warnings.warn(smsg, UserWarning)\n"
     ]
    },
    {
     "data": {
      "text/html": [
       "<style>#sk-container-id-2 {\n",
       "  /* Definition of color scheme common for light and dark mode */\n",
       "  --sklearn-color-text: black;\n",
       "  --sklearn-color-line: gray;\n",
       "  /* Definition of color scheme for unfitted estimators */\n",
       "  --sklearn-color-unfitted-level-0: #fff5e6;\n",
       "  --sklearn-color-unfitted-level-1: #f6e4d2;\n",
       "  --sklearn-color-unfitted-level-2: #ffe0b3;\n",
       "  --sklearn-color-unfitted-level-3: chocolate;\n",
       "  /* Definition of color scheme for fitted estimators */\n",
       "  --sklearn-color-fitted-level-0: #f0f8ff;\n",
       "  --sklearn-color-fitted-level-1: #d4ebff;\n",
       "  --sklearn-color-fitted-level-2: #b3dbfd;\n",
       "  --sklearn-color-fitted-level-3: cornflowerblue;\n",
       "\n",
       "  /* Specific color for light theme */\n",
       "  --sklearn-color-text-on-default-background: var(--sg-text-color, var(--theme-code-foreground, var(--jp-content-font-color1, black)));\n",
       "  --sklearn-color-background: var(--sg-background-color, var(--theme-background, var(--jp-layout-color0, white)));\n",
       "  --sklearn-color-border-box: var(--sg-text-color, var(--theme-code-foreground, var(--jp-content-font-color1, black)));\n",
       "  --sklearn-color-icon: #696969;\n",
       "\n",
       "  @media (prefers-color-scheme: dark) {\n",
       "    /* Redefinition of color scheme for dark theme */\n",
       "    --sklearn-color-text-on-default-background: var(--sg-text-color, var(--theme-code-foreground, var(--jp-content-font-color1, white)));\n",
       "    --sklearn-color-background: var(--sg-background-color, var(--theme-background, var(--jp-layout-color0, #111)));\n",
       "    --sklearn-color-border-box: var(--sg-text-color, var(--theme-code-foreground, var(--jp-content-font-color1, white)));\n",
       "    --sklearn-color-icon: #878787;\n",
       "  }\n",
       "}\n",
       "\n",
       "#sk-container-id-2 {\n",
       "  color: var(--sklearn-color-text);\n",
       "}\n",
       "\n",
       "#sk-container-id-2 pre {\n",
       "  padding: 0;\n",
       "}\n",
       "\n",
       "#sk-container-id-2 input.sk-hidden--visually {\n",
       "  border: 0;\n",
       "  clip: rect(1px 1px 1px 1px);\n",
       "  clip: rect(1px, 1px, 1px, 1px);\n",
       "  height: 1px;\n",
       "  margin: -1px;\n",
       "  overflow: hidden;\n",
       "  padding: 0;\n",
       "  position: absolute;\n",
       "  width: 1px;\n",
       "}\n",
       "\n",
       "#sk-container-id-2 div.sk-dashed-wrapped {\n",
       "  border: 1px dashed var(--sklearn-color-line);\n",
       "  margin: 0 0.4em 0.5em 0.4em;\n",
       "  box-sizing: border-box;\n",
       "  padding-bottom: 0.4em;\n",
       "  background-color: var(--sklearn-color-background);\n",
       "}\n",
       "\n",
       "#sk-container-id-2 div.sk-container {\n",
       "  /* jupyter's `normalize.less` sets `[hidden] { display: none; }`\n",
       "     but bootstrap.min.css set `[hidden] { display: none !important; }`\n",
       "     so we also need the `!important` here to be able to override the\n",
       "     default hidden behavior on the sphinx rendered scikit-learn.org.\n",
       "     See: https://github.com/scikit-learn/scikit-learn/issues/21755 */\n",
       "  display: inline-block !important;\n",
       "  position: relative;\n",
       "}\n",
       "\n",
       "#sk-container-id-2 div.sk-text-repr-fallback {\n",
       "  display: none;\n",
       "}\n",
       "\n",
       "div.sk-parallel-item,\n",
       "div.sk-serial,\n",
       "div.sk-item {\n",
       "  /* draw centered vertical line to link estimators */\n",
       "  background-image: linear-gradient(var(--sklearn-color-text-on-default-background), var(--sklearn-color-text-on-default-background));\n",
       "  background-size: 2px 100%;\n",
       "  background-repeat: no-repeat;\n",
       "  background-position: center center;\n",
       "}\n",
       "\n",
       "/* Parallel-specific style estimator block */\n",
       "\n",
       "#sk-container-id-2 div.sk-parallel-item::after {\n",
       "  content: \"\";\n",
       "  width: 100%;\n",
       "  border-bottom: 2px solid var(--sklearn-color-text-on-default-background);\n",
       "  flex-grow: 1;\n",
       "}\n",
       "\n",
       "#sk-container-id-2 div.sk-parallel {\n",
       "  display: flex;\n",
       "  align-items: stretch;\n",
       "  justify-content: center;\n",
       "  background-color: var(--sklearn-color-background);\n",
       "  position: relative;\n",
       "}\n",
       "\n",
       "#sk-container-id-2 div.sk-parallel-item {\n",
       "  display: flex;\n",
       "  flex-direction: column;\n",
       "}\n",
       "\n",
       "#sk-container-id-2 div.sk-parallel-item:first-child::after {\n",
       "  align-self: flex-end;\n",
       "  width: 50%;\n",
       "}\n",
       "\n",
       "#sk-container-id-2 div.sk-parallel-item:last-child::after {\n",
       "  align-self: flex-start;\n",
       "  width: 50%;\n",
       "}\n",
       "\n",
       "#sk-container-id-2 div.sk-parallel-item:only-child::after {\n",
       "  width: 0;\n",
       "}\n",
       "\n",
       "/* Serial-specific style estimator block */\n",
       "\n",
       "#sk-container-id-2 div.sk-serial {\n",
       "  display: flex;\n",
       "  flex-direction: column;\n",
       "  align-items: center;\n",
       "  background-color: var(--sklearn-color-background);\n",
       "  padding-right: 1em;\n",
       "  padding-left: 1em;\n",
       "}\n",
       "\n",
       "\n",
       "/* Toggleable style: style used for estimator/Pipeline/ColumnTransformer box that is\n",
       "clickable and can be expanded/collapsed.\n",
       "- Pipeline and ColumnTransformer use this feature and define the default style\n",
       "- Estimators will overwrite some part of the style using the `sk-estimator` class\n",
       "*/\n",
       "\n",
       "/* Pipeline and ColumnTransformer style (default) */\n",
       "\n",
       "#sk-container-id-2 div.sk-toggleable {\n",
       "  /* Default theme specific background. It is overwritten whether we have a\n",
       "  specific estimator or a Pipeline/ColumnTransformer */\n",
       "  background-color: var(--sklearn-color-background);\n",
       "}\n",
       "\n",
       "/* Toggleable label */\n",
       "#sk-container-id-2 label.sk-toggleable__label {\n",
       "  cursor: pointer;\n",
       "  display: block;\n",
       "  width: 100%;\n",
       "  margin-bottom: 0;\n",
       "  padding: 0.5em;\n",
       "  box-sizing: border-box;\n",
       "  text-align: center;\n",
       "}\n",
       "\n",
       "#sk-container-id-2 label.sk-toggleable__label-arrow:before {\n",
       "  /* Arrow on the left of the label */\n",
       "  content: \"▸\";\n",
       "  float: left;\n",
       "  margin-right: 0.25em;\n",
       "  color: var(--sklearn-color-icon);\n",
       "}\n",
       "\n",
       "#sk-container-id-2 label.sk-toggleable__label-arrow:hover:before {\n",
       "  color: var(--sklearn-color-text);\n",
       "}\n",
       "\n",
       "/* Toggleable content - dropdown */\n",
       "\n",
       "#sk-container-id-2 div.sk-toggleable__content {\n",
       "  max-height: 0;\n",
       "  max-width: 0;\n",
       "  overflow: hidden;\n",
       "  text-align: left;\n",
       "  /* unfitted */\n",
       "  background-color: var(--sklearn-color-unfitted-level-0);\n",
       "}\n",
       "\n",
       "#sk-container-id-2 div.sk-toggleable__content.fitted {\n",
       "  /* fitted */\n",
       "  background-color: var(--sklearn-color-fitted-level-0);\n",
       "}\n",
       "\n",
       "#sk-container-id-2 div.sk-toggleable__content pre {\n",
       "  margin: 0.2em;\n",
       "  border-radius: 0.25em;\n",
       "  color: var(--sklearn-color-text);\n",
       "  /* unfitted */\n",
       "  background-color: var(--sklearn-color-unfitted-level-0);\n",
       "}\n",
       "\n",
       "#sk-container-id-2 div.sk-toggleable__content.fitted pre {\n",
       "  /* unfitted */\n",
       "  background-color: var(--sklearn-color-fitted-level-0);\n",
       "}\n",
       "\n",
       "#sk-container-id-2 input.sk-toggleable__control:checked~div.sk-toggleable__content {\n",
       "  /* Expand drop-down */\n",
       "  max-height: 200px;\n",
       "  max-width: 100%;\n",
       "  overflow: auto;\n",
       "}\n",
       "\n",
       "#sk-container-id-2 input.sk-toggleable__control:checked~label.sk-toggleable__label-arrow:before {\n",
       "  content: \"▾\";\n",
       "}\n",
       "\n",
       "/* Pipeline/ColumnTransformer-specific style */\n",
       "\n",
       "#sk-container-id-2 div.sk-label input.sk-toggleable__control:checked~label.sk-toggleable__label {\n",
       "  color: var(--sklearn-color-text);\n",
       "  background-color: var(--sklearn-color-unfitted-level-2);\n",
       "}\n",
       "\n",
       "#sk-container-id-2 div.sk-label.fitted input.sk-toggleable__control:checked~label.sk-toggleable__label {\n",
       "  background-color: var(--sklearn-color-fitted-level-2);\n",
       "}\n",
       "\n",
       "/* Estimator-specific style */\n",
       "\n",
       "/* Colorize estimator box */\n",
       "#sk-container-id-2 div.sk-estimator input.sk-toggleable__control:checked~label.sk-toggleable__label {\n",
       "  /* unfitted */\n",
       "  background-color: var(--sklearn-color-unfitted-level-2);\n",
       "}\n",
       "\n",
       "#sk-container-id-2 div.sk-estimator.fitted input.sk-toggleable__control:checked~label.sk-toggleable__label {\n",
       "  /* fitted */\n",
       "  background-color: var(--sklearn-color-fitted-level-2);\n",
       "}\n",
       "\n",
       "#sk-container-id-2 div.sk-label label.sk-toggleable__label,\n",
       "#sk-container-id-2 div.sk-label label {\n",
       "  /* The background is the default theme color */\n",
       "  color: var(--sklearn-color-text-on-default-background);\n",
       "}\n",
       "\n",
       "/* On hover, darken the color of the background */\n",
       "#sk-container-id-2 div.sk-label:hover label.sk-toggleable__label {\n",
       "  color: var(--sklearn-color-text);\n",
       "  background-color: var(--sklearn-color-unfitted-level-2);\n",
       "}\n",
       "\n",
       "/* Label box, darken color on hover, fitted */\n",
       "#sk-container-id-2 div.sk-label.fitted:hover label.sk-toggleable__label.fitted {\n",
       "  color: var(--sklearn-color-text);\n",
       "  background-color: var(--sklearn-color-fitted-level-2);\n",
       "}\n",
       "\n",
       "/* Estimator label */\n",
       "\n",
       "#sk-container-id-2 div.sk-label label {\n",
       "  font-family: monospace;\n",
       "  font-weight: bold;\n",
       "  display: inline-block;\n",
       "  line-height: 1.2em;\n",
       "}\n",
       "\n",
       "#sk-container-id-2 div.sk-label-container {\n",
       "  text-align: center;\n",
       "}\n",
       "\n",
       "/* Estimator-specific */\n",
       "#sk-container-id-2 div.sk-estimator {\n",
       "  font-family: monospace;\n",
       "  border: 1px dotted var(--sklearn-color-border-box);\n",
       "  border-radius: 0.25em;\n",
       "  box-sizing: border-box;\n",
       "  margin-bottom: 0.5em;\n",
       "  /* unfitted */\n",
       "  background-color: var(--sklearn-color-unfitted-level-0);\n",
       "}\n",
       "\n",
       "#sk-container-id-2 div.sk-estimator.fitted {\n",
       "  /* fitted */\n",
       "  background-color: var(--sklearn-color-fitted-level-0);\n",
       "}\n",
       "\n",
       "/* on hover */\n",
       "#sk-container-id-2 div.sk-estimator:hover {\n",
       "  /* unfitted */\n",
       "  background-color: var(--sklearn-color-unfitted-level-2);\n",
       "}\n",
       "\n",
       "#sk-container-id-2 div.sk-estimator.fitted:hover {\n",
       "  /* fitted */\n",
       "  background-color: var(--sklearn-color-fitted-level-2);\n",
       "}\n",
       "\n",
       "/* Specification for estimator info (e.g. \"i\" and \"?\") */\n",
       "\n",
       "/* Common style for \"i\" and \"?\" */\n",
       "\n",
       ".sk-estimator-doc-link,\n",
       "a:link.sk-estimator-doc-link,\n",
       "a:visited.sk-estimator-doc-link {\n",
       "  float: right;\n",
       "  font-size: smaller;\n",
       "  line-height: 1em;\n",
       "  font-family: monospace;\n",
       "  background-color: var(--sklearn-color-background);\n",
       "  border-radius: 1em;\n",
       "  height: 1em;\n",
       "  width: 1em;\n",
       "  text-decoration: none !important;\n",
       "  margin-left: 1ex;\n",
       "  /* unfitted */\n",
       "  border: var(--sklearn-color-unfitted-level-1) 1pt solid;\n",
       "  color: var(--sklearn-color-unfitted-level-1);\n",
       "}\n",
       "\n",
       ".sk-estimator-doc-link.fitted,\n",
       "a:link.sk-estimator-doc-link.fitted,\n",
       "a:visited.sk-estimator-doc-link.fitted {\n",
       "  /* fitted */\n",
       "  border: var(--sklearn-color-fitted-level-1) 1pt solid;\n",
       "  color: var(--sklearn-color-fitted-level-1);\n",
       "}\n",
       "\n",
       "/* On hover */\n",
       "div.sk-estimator:hover .sk-estimator-doc-link:hover,\n",
       ".sk-estimator-doc-link:hover,\n",
       "div.sk-label-container:hover .sk-estimator-doc-link:hover,\n",
       ".sk-estimator-doc-link:hover {\n",
       "  /* unfitted */\n",
       "  background-color: var(--sklearn-color-unfitted-level-3);\n",
       "  color: var(--sklearn-color-background);\n",
       "  text-decoration: none;\n",
       "}\n",
       "\n",
       "div.sk-estimator.fitted:hover .sk-estimator-doc-link.fitted:hover,\n",
       ".sk-estimator-doc-link.fitted:hover,\n",
       "div.sk-label-container:hover .sk-estimator-doc-link.fitted:hover,\n",
       ".sk-estimator-doc-link.fitted:hover {\n",
       "  /* fitted */\n",
       "  background-color: var(--sklearn-color-fitted-level-3);\n",
       "  color: var(--sklearn-color-background);\n",
       "  text-decoration: none;\n",
       "}\n",
       "\n",
       "/* Span, style for the box shown on hovering the info icon */\n",
       ".sk-estimator-doc-link span {\n",
       "  display: none;\n",
       "  z-index: 9999;\n",
       "  position: relative;\n",
       "  font-weight: normal;\n",
       "  right: .2ex;\n",
       "  padding: .5ex;\n",
       "  margin: .5ex;\n",
       "  width: min-content;\n",
       "  min-width: 20ex;\n",
       "  max-width: 50ex;\n",
       "  color: var(--sklearn-color-text);\n",
       "  box-shadow: 2pt 2pt 4pt #999;\n",
       "  /* unfitted */\n",
       "  background: var(--sklearn-color-unfitted-level-0);\n",
       "  border: .5pt solid var(--sklearn-color-unfitted-level-3);\n",
       "}\n",
       "\n",
       ".sk-estimator-doc-link.fitted span {\n",
       "  /* fitted */\n",
       "  background: var(--sklearn-color-fitted-level-0);\n",
       "  border: var(--sklearn-color-fitted-level-3);\n",
       "}\n",
       "\n",
       ".sk-estimator-doc-link:hover span {\n",
       "  display: block;\n",
       "}\n",
       "\n",
       "/* \"?\"-specific style due to the `<a>` HTML tag */\n",
       "\n",
       "#sk-container-id-2 a.estimator_doc_link {\n",
       "  float: right;\n",
       "  font-size: 1rem;\n",
       "  line-height: 1em;\n",
       "  font-family: monospace;\n",
       "  background-color: var(--sklearn-color-background);\n",
       "  border-radius: 1rem;\n",
       "  height: 1rem;\n",
       "  width: 1rem;\n",
       "  text-decoration: none;\n",
       "  /* unfitted */\n",
       "  color: var(--sklearn-color-unfitted-level-1);\n",
       "  border: var(--sklearn-color-unfitted-level-1) 1pt solid;\n",
       "}\n",
       "\n",
       "#sk-container-id-2 a.estimator_doc_link.fitted {\n",
       "  /* fitted */\n",
       "  border: var(--sklearn-color-fitted-level-1) 1pt solid;\n",
       "  color: var(--sklearn-color-fitted-level-1);\n",
       "}\n",
       "\n",
       "/* On hover */\n",
       "#sk-container-id-2 a.estimator_doc_link:hover {\n",
       "  /* unfitted */\n",
       "  background-color: var(--sklearn-color-unfitted-level-3);\n",
       "  color: var(--sklearn-color-background);\n",
       "  text-decoration: none;\n",
       "}\n",
       "\n",
       "#sk-container-id-2 a.estimator_doc_link.fitted:hover {\n",
       "  /* fitted */\n",
       "  background-color: var(--sklearn-color-fitted-level-3);\n",
       "}\n",
       "</style><div id=\"sk-container-id-2\" class=\"sk-top-container\"><div class=\"sk-text-repr-fallback\"><pre>XGBClassifier(base_score=None, booster=None, callbacks=None,\n",
       "              colsample_bylevel=None, colsample_bynode=None,\n",
       "              colsample_bytree=None, device=None, early_stopping_rounds=None,\n",
       "              enable_categorical=False, eval_metric=&#x27;logloss&#x27;,\n",
       "              feature_types=None, gamma=None, grow_policy=None,\n",
       "              importance_type=None, interaction_constraints=None,\n",
       "              learning_rate=None, max_bin=None, max_cat_threshold=None,\n",
       "              max_cat_to_onehot=None, max_delta_step=None, max_depth=None,\n",
       "              max_leaves=None, min_child_weight=None, missing=nan,\n",
       "              monotone_constraints=None, multi_strategy=None, n_estimators=None,\n",
       "              n_jobs=None, num_parallel_tree=None, random_state=None, ...)</pre><b>In a Jupyter environment, please rerun this cell to show the HTML representation or trust the notebook. <br />On GitHub, the HTML representation is unable to render, please try loading this page with nbviewer.org.</b></div><div class=\"sk-container\" hidden><div class=\"sk-item\"><div class=\"sk-estimator fitted sk-toggleable\"><input class=\"sk-toggleable__control sk-hidden--visually\" id=\"sk-estimator-id-2\" type=\"checkbox\" checked><label for=\"sk-estimator-id-2\" class=\"sk-toggleable__label fitted sk-toggleable__label-arrow fitted\">&nbsp;XGBClassifier<span class=\"sk-estimator-doc-link fitted\">i<span>Fitted</span></span></label><div class=\"sk-toggleable__content fitted\"><pre>XGBClassifier(base_score=None, booster=None, callbacks=None,\n",
       "              colsample_bylevel=None, colsample_bynode=None,\n",
       "              colsample_bytree=None, device=None, early_stopping_rounds=None,\n",
       "              enable_categorical=False, eval_metric=&#x27;logloss&#x27;,\n",
       "              feature_types=None, gamma=None, grow_policy=None,\n",
       "              importance_type=None, interaction_constraints=None,\n",
       "              learning_rate=None, max_bin=None, max_cat_threshold=None,\n",
       "              max_cat_to_onehot=None, max_delta_step=None, max_depth=None,\n",
       "              max_leaves=None, min_child_weight=None, missing=nan,\n",
       "              monotone_constraints=None, multi_strategy=None, n_estimators=None,\n",
       "              n_jobs=None, num_parallel_tree=None, random_state=None, ...)</pre></div> </div></div></div></div>"
      ],
      "text/plain": [
       "XGBClassifier(base_score=None, booster=None, callbacks=None,\n",
       "              colsample_bylevel=None, colsample_bynode=None,\n",
       "              colsample_bytree=None, device=None, early_stopping_rounds=None,\n",
       "              enable_categorical=False, eval_metric='logloss',\n",
       "              feature_types=None, gamma=None, grow_policy=None,\n",
       "              importance_type=None, interaction_constraints=None,\n",
       "              learning_rate=None, max_bin=None, max_cat_threshold=None,\n",
       "              max_cat_to_onehot=None, max_delta_step=None, max_depth=None,\n",
       "              max_leaves=None, min_child_weight=None, missing=nan,\n",
       "              monotone_constraints=None, multi_strategy=None, n_estimators=None,\n",
       "              n_jobs=None, num_parallel_tree=None, random_state=None, ...)"
      ]
     },
     "execution_count": 113,
     "metadata": {},
     "output_type": "execute_result"
    }
   ],
   "source": [
    "\n",
    "model_xgboost = xgb.XGBClassifier(use_label_encoder=False, eval_metric='logloss')\n",
    "model_xgboost.fit(X_train, y_train)\n"
   ]
  },
  {
   "cell_type": "code",
   "execution_count": 115,
   "metadata": {},
   "outputs": [
    {
     "name": "stdout",
     "output_type": "stream",
     "text": [
      "F1 Score: 1.00\n",
      "Model Accuracy: 99.61%\n"
     ]
    }
   ],
   "source": [
    "# Evaluate the model\n",
    "y_pred = model_xgboost.predict(X_test)\n",
    "accuracy = accuracy_score(y_test, y_pred)\n",
    "f1 = f1_score(y_test, y_pred)\n",
    "print(f\"F1 Score: {f1:.2f}\")\n",
    "\n",
    "\n",
    "print(f\"Model Accuracy: {accuracy * 100:.2f}%\")\n"
   ]
  },
  {
   "cell_type": "code",
   "execution_count": 116,
   "metadata": {},
   "outputs": [],
   "source": [
    "y_pred = model_xgboost.predict(X_test)\n"
   ]
  },
  {
   "cell_type": "code",
   "execution_count": 118,
   "metadata": {},
   "outputs": [
    {
     "data": {
      "image/png": "[encoded data removed]",
      "text/plain": [
       "<Figure size 640x480 with 1 Axes>"
      ]
     },
     "metadata": {},
     "output_type": "display_data"
    }
   ],
   "source": [
    "xgb.plot_importance(model_xgboost, importance_type='weight')\n",
    "plt.title('Feature Importance')\n",
    "plt.show()"
   ]
  },
  {
   "cell_type": "code",
   "execution_count": null,
   "metadata": {},
   "outputs": [],
   "source": [
    "\n",
    "def extract_date_features(date):\n",
    "    \n",
    "    date = pd.to_datetime(date)\n",
    "\n",
    "    \n",
    "    features = {\n",
    "        'DayOfWeek': date.weekday(),  \n",
    "        'DayOfMonth': date.day,\n",
    "        'WeekOfMonth': (date.day - 1) // 7 + 1,  \n",
    "        'Month': date.month\n",
    "    }\n",
    "    return features\n",
    "\n"
   ]
  },
  {
   "cell_type": "code",
   "execution_count": null,
   "metadata": {},
   "outputs": [
    {
     "name": "stdout",
     "output_type": "stream",
     "text": [
      "weekend\n"
     ]
    }
   ],
   "source": [
    "from datetime import timedelta\n",
    "\n",
    "\n",
    "def get_second_friday_of_august(year):\n",
    "    august_1st = pd.to_datetime(f'{year}-08-01')\n",
    "    first_friday = august_1st + timedelta(days=(4 - august_1st.weekday()) % 7)\n",
    "    second_friday = first_friday + timedelta(weeks=1)\n",
    "    return second_friday\n",
    "\n",
    "\n",
    "def get_third_friday_of_december(year):\n",
    "    december_1st = pd.to_datetime(f'{year}-12-01')\n",
    "    first_friday = december_1st + timedelta(days=(4 - december_1st.weekday()) % 7)\n",
    "    third_friday = first_friday + timedelta(weeks=2)\n",
    "    return third_friday\n",
    "\n",
    "\n",
    "def get_first_monday_of_january(year):\n",
    "    january_1st = pd.to_datetime(f'{year+1}-01-01')\n",
    "    first_monday = january_1st + timedelta(days=(7 - january_1st.weekday()) % 7)\n",
    "    return first_monday\n",
    "\n",
    "\n",
    "def check_vacation_or_weekend(date, vacation_ranges):\n",
    "    date = pd.to_datetime(date)\n",
    "    \n",
    "    \n",
    "    if date.weekday() >= 5:  \n",
    "        return \"weekend\"\n",
    "    \n",
    "    \n",
    "    for start, end in vacation_ranges:\n",
    "        if start <= date <= end:\n",
    "            return \"vacation\"\n",
    "    \n",
    "    return \"working day\"\n",
    "\n",
    "\n",
    "def extract_date_features(date):\n",
    "    \n",
    "    date = pd.to_datetime(date)\n",
    "\n",
    "    \n",
    "    features = {\n",
    "        'DayOfWeek': date.weekday(),  \n",
    "        'DayOfMonth': date.day,\n",
    "        'WeekOfMonth': (date.day - 1) // 7 + 1,  \n",
    "        'Month': date.month\n",
    "    }\n",
    "    return features\n",
    "\n",
    "\n",
    "def predict_absenteeism(date, model, vacation_ranges):\n",
    "    \n",
    "    year = pd.to_datetime(date).year\n",
    "    \n",
    "    \n",
    "    status = check_vacation_or_weekend(date, vacation_ranges)\n",
    "    \n",
    "    if status != \"working day\":\n",
    "        return status\n",
    "    \n",
    "    \n",
    "    date_features = extract_date_features(date)\n",
    "    date_features_df = pd.DataFrame([date_features])\n",
    "    \n",
    "    \n",
    "    prediction = model.predict_proba(date_features_df)\n",
    "    probability_present = prediction[0][1]\n",
    "    \n",
    "    return f\"Probability of being present on {date}: {probability_present:.4f}\"\n",
    "\n",
    "\n",
    "def get_vacation_ranges(date):\n",
    "    year = pd.to_datetime(date).year\n",
    "    \n",
    "    \n",
    "    summer_vacation_start = get_second_friday_of_august(year)\n",
    "    summer_vacation_end = summer_vacation_start + timedelta(weeks=2)\n",
    "\n",
    "    winter_vacation_start = get_third_friday_of_december(year)\n",
    "    winter_vacation_end = get_first_monday_of_january(year)\n",
    "\n",
    "    return [\n",
    "        (summer_vacation_start, summer_vacation_end),\n",
    "        (winter_vacation_start, winter_vacation_end)\n",
    "    ]\n",
    "\n",
    "\n",
    "chosen_date = '2025-01-4'\n",
    "\n",
    "\n",
    "vacation_ranges = get_vacation_ranges(chosen_date)\n",
    "\n",
    "\n",
    "result = predict_absenteeism(chosen_date, model, vacation_ranges)\n",
    "print(result)\n"
   ]
  },
  {
   "cell_type": "code",
   "execution_count": 121,
   "metadata": {},
   "outputs": [],
   "source": [
    "dates_january_february = pd.date_range(start='2025-01-01', end='2025-02-28').strftime('%Y-%m-%d').tolist()"
   ]
  },
  {
   "cell_type": "code",
   "execution_count": null,
   "metadata": {},
   "outputs": [
    {
     "name": "stdout",
     "output_type": "stream",
     "text": [
      "Probability of being present on 2025-01-01: 0.5327\n",
      "Probability of being present on 2025-01-02: 1.0000\n",
      "Probability of being present on 2025-01-03: 1.0000\n",
      "weekend\n",
      "weekend\n",
      "Probability of being present on 2025-01-06: 0.0080\n",
      "Probability of being present on 2025-01-07: 0.9999\n",
      "Probability of being present on 2025-01-08: 0.9997\n",
      "Probability of being present on 2025-01-09: 1.0000\n",
      "Probability of being present on 2025-01-10: 1.0000\n",
      "weekend\n",
      "weekend\n",
      "Probability of being present on 2025-01-13: 0.9989\n",
      "Probability of being present on 2025-01-14: 1.0000\n",
      "Probability of being present on 2025-01-15: 1.0000\n",
      "Probability of being present on 2025-01-16: 1.0000\n",
      "Probability of being present on 2025-01-17: 1.0000\n",
      "weekend\n",
      "weekend\n",
      "Probability of being present on 2025-01-20: 1.0000\n",
      "Probability of being present on 2025-01-21: 1.0000\n",
      "Probability of being present on 2025-01-22: 1.0000\n",
      "Probability of being present on 2025-01-23: 1.0000\n",
      "Probability of being present on 2025-01-24: 1.0000\n",
      "weekend\n",
      "weekend\n",
      "Probability of being present on 2025-01-27: 0.9999\n",
      "Probability of being present on 2025-01-28: 1.0000\n",
      "Probability of being present on 2025-01-29: 1.0000\n",
      "Probability of being present on 2025-01-30: 1.0000\n",
      "Probability of being present on 2025-01-31: 1.0000\n",
      "weekend\n",
      "weekend\n",
      "Probability of being present on 2025-02-03: 1.0000\n",
      "Probability of being present on 2025-02-04: 1.0000\n",
      "Probability of being present on 2025-02-05: 1.0000\n",
      "Probability of being present on 2025-02-06: 1.0000\n",
      "Probability of being present on 2025-02-07: 1.0000\n",
      "weekend\n",
      "weekend\n",
      "Probability of being present on 2025-02-10: 0.9999\n",
      "Probability of being present on 2025-02-11: 1.0000\n",
      "Probability of being present on 2025-02-12: 1.0000\n",
      "Probability of being present on 2025-02-13: 1.0000\n",
      "Probability of being present on 2025-02-14: 1.0000\n",
      "weekend\n",
      "weekend\n",
      "Probability of being present on 2025-02-17: 1.0000\n",
      "Probability of being present on 2025-02-18: 1.0000\n",
      "Probability of being present on 2025-02-19: 1.0000\n",
      "Probability of being present on 2025-02-20: 1.0000\n",
      "Probability of being present on 2025-02-21: 1.0000\n",
      "weekend\n",
      "weekend\n",
      "Probability of being present on 2025-02-24: 1.0000\n",
      "Probability of being present on 2025-02-25: 1.0000\n",
      "Probability of being present on 2025-02-26: 1.0000\n",
      "Probability of being present on 2025-02-27: 1.0000\n",
      "Probability of being present on 2025-02-28: 1.0000\n"
     ]
    }
   ],
   "source": [
    "from datetime import timedelta\n",
    "\n",
    "\n",
    "def get_second_friday_of_august(year):\n",
    "    august_1st = pd.to_datetime(f'{year}-08-01')\n",
    "    first_friday = august_1st + timedelta(days=(4 - august_1st.weekday()) % 7)\n",
    "    second_friday = first_friday + timedelta(weeks=1)\n",
    "    return second_friday\n",
    "\n",
    "\n",
    "def get_third_friday_of_december(year):\n",
    "    december_1st = pd.to_datetime(f'{year}-12-01')\n",
    "    first_friday = december_1st + timedelta(days=(4 - december_1st.weekday()) % 7)\n",
    "    third_friday = first_friday + timedelta(weeks=2)\n",
    "    return third_friday\n",
    "\n",
    "\n",
    "def get_first_monday_of_january(year):\n",
    "    january_1st = pd.to_datetime(f'{year+1}-01-01')\n",
    "    first_monday = january_1st + timedelta(days=(7 - january_1st.weekday()) % 7)\n",
    "    return first_monday\n",
    "\n",
    "\n",
    "def check_vacation_or_weekend(date, vacation_ranges):\n",
    "    date = pd.to_datetime(date)\n",
    "    \n",
    "    \n",
    "    if date.weekday() >= 5:  \n",
    "        return \"weekend\"\n",
    "    \n",
    "    \n",
    "    for start, end in vacation_ranges:\n",
    "        if start <= date <= end:\n",
    "            return \"vacation\"\n",
    "    \n",
    "    return \"working day\"\n",
    "\n",
    "\n",
    "def extract_date_features(date):\n",
    "    \n",
    "    date = pd.to_datetime(date)\n",
    "\n",
    "    \n",
    "    features = {\n",
    "        'DayOfWeek': date.weekday(),  \n",
    "        'DayOfMonth': date.day,\n",
    "        'WeekOfMonth': (date.day - 1) // 7 + 1,  \n",
    "        'Month': date.month\n",
    "    }\n",
    "    return features\n",
    "\n",
    "\n",
    "def predict_absenteeism(date, model, vacation_ranges):\n",
    "    \n",
    "    year = pd.to_datetime(date).year\n",
    "    \n",
    "    \n",
    "    status = check_vacation_or_weekend(date, vacation_ranges)\n",
    "    \n",
    "    if status != \"working day\":\n",
    "        return status\n",
    "    \n",
    "    \n",
    "    date_features = extract_date_features(date)\n",
    "    date_features_df = pd.DataFrame([date_features])\n",
    "    \n",
    "    \n",
    "    prediction = model.predict_proba(date_features_df)\n",
    "    probability_present = prediction[0][1]\n",
    "    \n",
    "    return f\"Probability of being present on {date}: {probability_present:.4f}\"\n",
    "\n",
    "\n",
    "def get_vacation_ranges(date):\n",
    "    year = pd.to_datetime(date).year\n",
    "    \n",
    "    \n",
    "    summer_vacation_start = get_second_friday_of_august(year)\n",
    "    summer_vacation_end = summer_vacation_start + timedelta(weeks=2)\n",
    "\n",
    "    winter_vacation_start = get_third_friday_of_december(year)\n",
    "    winter_vacation_end = get_first_monday_of_january(year)\n",
    "\n",
    "    return [\n",
    "        (summer_vacation_start, summer_vacation_end),\n",
    "        (winter_vacation_start, winter_vacation_end)\n",
    "    ]\n",
    "\n",
    "\n",
    "chosen_date = dates_january_february\n",
    "for date in chosen_date:\n",
    "    \n",
    "    vacation_ranges = get_vacation_ranges(date)\n",
    "\n",
    "    \n",
    "    result = predict_absenteeism(date, model_xgboost, vacation_ranges)\n",
    "    print(result)\n"
   ]
  },
  {
   "cell_type": "markdown",
   "metadata": {},
   "source": [
    "## CNN model"
   ]
  },
  {
   "cell_type": "code",
   "execution_count": 196,
   "metadata": {},
   "outputs": [],
   "source": [
    "import tensorflow as tf\n",
    "from tensorflow.keras.models import Sequential, load_model\n",
    "from tensorflow.keras.layers import Conv1D, Flatten, Dense, MaxPooling1D\n",
    "from sklearn.model_selection import train_test_split\n",
    "from sklearn.preprocessing import StandardScaler\n",
    "import pandas as pd\n",
    "import numpy as np"
   ]
  },
  {
   "cell_type": "code",
   "execution_count": 151,
   "metadata": {},
   "outputs": [],
   "source": [
    "X = result_df[['DayOfWeek', 'DayOfMonth', 'WeekOfMonth', 'Month']].values\n",
    "y = result_df['Presence']"
   ]
  },
  {
   "cell_type": "code",
   "execution_count": 152,
   "metadata": {},
   "outputs": [],
   "source": [
    "X = X.reshape((X.shape[0], X.shape[1], 1))"
   ]
  },
  {
   "cell_type": "code",
   "execution_count": 153,
   "metadata": {},
   "outputs": [],
   "source": [
    "X_train, X_test, y_train, y_test = train_test_split(X, y, test_size=0.2, random_state=42)"
   ]
  },
  {
   "cell_type": "code",
   "execution_count": 77,
   "metadata": {},
   "outputs": [
    {
     "name": "stderr",
     "output_type": "stream",
     "text": [
      "c:\\Users\\LENOVO\\AppData\\Local\\Programs\\Python\\Python312\\Lib\\site-packages\\keras\\src\\layers\\convolutional\\base_conv.py:107: UserWarning: Do not pass an `input_shape`/`input_dim` argument to a layer. When using Sequential models, prefer using an `Input(shape)` object as the first layer in the model instead.\n",
      "  super().__init__(activity_regularizer=activity_regularizer, **kwargs)\n"
     ]
    }
   ],
   "source": [
    "model = Sequential()\n",
    "model.add(Conv1D(64, kernel_size=2, activation='relu', input_shape=(X_train.shape[1], 1)))\n",
    "model.add(MaxPooling1D(pool_size=2))\n",
    "model.add(Flatten())\n",
    "model.add(Dense(64, activation='relu'))\n",
    "model.add(Dense(1, activation='sigmoid'))"
   ]
  },
  {
   "cell_type": "code",
   "execution_count": 81,
   "metadata": {},
   "outputs": [],
   "source": [
    "model.compile(optimizer='adam', \n",
    "              loss='binary_crossentropy', \n",
    "              metrics=['accuracy'])"
   ]
  },
  {
   "cell_type": "code",
   "execution_count": 82,
   "metadata": {},
   "outputs": [
    {
     "name": "stdout",
     "output_type": "stream",
     "text": [
      "Epoch 1/10\n",
      "\u001b[1m3824/3824\u001b[0m \u001b[32m━━━━━━━━━━━━━━━━━━━━\u001b[0m\u001b[37m\u001b[0m \u001b[1m7s\u001b[0m 1ms/step - accuracy: 0.9681 - loss: 0.1277 - val_accuracy: 0.9742 - val_loss: 0.1071\n",
      "Epoch 2/10\n",
      "\u001b[1m3824/3824\u001b[0m \u001b[32m━━━━━━━━━━━━━━━━━━━━\u001b[0m\u001b[37m\u001b[0m \u001b[1m5s\u001b[0m 1ms/step - accuracy: 0.9731 - loss: 0.1111 - val_accuracy: 0.9742 - val_loss: 0.1031\n",
      "Epoch 3/10\n",
      "\u001b[1m3824/3824\u001b[0m \u001b[32m━━━━━━━━━━━━━━━━━━━━\u001b[0m\u001b[37m\u001b[0m \u001b[1m5s\u001b[0m 1ms/step - accuracy: 0.9735 - loss: 0.1062 - val_accuracy: 0.9742 - val_loss: 0.1023\n",
      "Epoch 4/10\n",
      "\u001b[1m3824/3824\u001b[0m \u001b[32m━━━━━━━━━━━━━━━━━━━━\u001b[0m\u001b[37m\u001b[0m \u001b[1m5s\u001b[0m 1ms/step - accuracy: 0.9735 - loss: 0.1034 - val_accuracy: 0.9742 - val_loss: 0.1004\n",
      "Epoch 5/10\n",
      "\u001b[1m3824/3824\u001b[0m \u001b[32m━━━━━━━━━━━━━━━━━━━━\u001b[0m\u001b[37m\u001b[0m \u001b[1m5s\u001b[0m 1ms/step - accuracy: 0.9737 - loss: 0.1027 - val_accuracy: 0.9742 - val_loss: 0.1050\n",
      "Epoch 6/10\n",
      "\u001b[1m3824/3824\u001b[0m \u001b[32m━━━━━━━━━━━━━━━━━━━━\u001b[0m\u001b[37m\u001b[0m \u001b[1m5s\u001b[0m 1ms/step - accuracy: 0.9738 - loss: 0.1014 - val_accuracy: 0.9742 - val_loss: 0.0999\n",
      "Epoch 7/10\n",
      "\u001b[1m3824/3824\u001b[0m \u001b[32m━━━━━━━━━━━━━━━━━━━━\u001b[0m\u001b[37m\u001b[0m \u001b[1m5s\u001b[0m 1ms/step - accuracy: 0.9735 - loss: 0.1019 - val_accuracy: 0.9742 - val_loss: 0.0986\n",
      "Epoch 8/10\n",
      "\u001b[1m3824/3824\u001b[0m \u001b[32m━━━━━━━━━━━━━━━━━━━━\u001b[0m\u001b[37m\u001b[0m \u001b[1m5s\u001b[0m 1ms/step - accuracy: 0.9733 - loss: 0.1014 - val_accuracy: 0.9742 - val_loss: 0.0976\n",
      "Epoch 9/10\n",
      "\u001b[1m3824/3824\u001b[0m \u001b[32m━━━━━━━━━━━━━━━━━━━━\u001b[0m\u001b[37m\u001b[0m \u001b[1m5s\u001b[0m 1ms/step - accuracy: 0.9740 - loss: 0.0993 - val_accuracy: 0.9742 - val_loss: 0.0974\n",
      "Epoch 10/10\n",
      "\u001b[1m3824/3824\u001b[0m \u001b[32m━━━━━━━━━━━━━━━━━━━━\u001b[0m\u001b[37m\u001b[0m \u001b[1m5s\u001b[0m 1ms/step - accuracy: 0.9730 - loss: 0.1013 - val_accuracy: 0.9742 - val_loss: 0.1011\n"
     ]
    }
   ],
   "source": [
    "history = model.fit(X_train, y_train, epochs=10, batch_size=32, validation_data=(X_test, y_test))"
   ]
  },
  {
   "cell_type": "code",
   "execution_count": null,
   "metadata": {},
   "outputs": [
    {
     "data": {
      "image/png": "[encoded data removed]",
      "text/plain": [
       "<Figure size 1200x600 with 2 Axes>"
      ]
     },
     "metadata": {},
     "output_type": "display_data"
    }
   ],
   "source": [
    "\n",
    "plt.figure(figsize=(12, 6))\n",
    "\n",
    "\n",
    "plt.subplot(1, 2, 1)\n",
    "plt.plot(history.history['loss'], label='Training Loss', color='blue')\n",
    "if 'val_loss' in history.history:\n",
    "    plt.plot(history.history['val_loss'], label='Validation Loss', color='red')\n",
    "plt.title('Loss over epochs')\n",
    "plt.xlabel('Epoch')\n",
    "plt.ylabel('Loss')\n",
    "plt.legend()\n",
    "\n",
    "\n",
    "plt.subplot(1, 2, 2)\n",
    "plt.plot(history.history['accuracy'], label='Training Accuracy', color='blue')\n",
    "if 'val_accuracy' in history.history:\n",
    "    plt.plot(history.history['val_accuracy'], label='Validation Accuracy', color='red')\n",
    "plt.title('Accuracy over epochs')\n",
    "plt.xlabel('Epoch')\n",
    "plt.ylabel('Accuracy')\n",
    "plt.legend()\n",
    "\n",
    "\n",
    "plt.tight_layout()\n",
    "plt.show()"
   ]
  },
  {
   "cell_type": "code",
   "execution_count": 155,
   "metadata": {},
   "outputs": [
    {
     "name": "stdout",
     "output_type": "stream",
     "text": [
      "\u001b[1m956/956\u001b[0m \u001b[32m━━━━━━━━━━━━━━━━━━━━\u001b[0m\u001b[37m\u001b[0m \u001b[1m1s\u001b[0m 620us/step - accuracy: 0.9729 - loss: 0.1028\n",
      "Test accuracy: 97.42%\n"
     ]
    }
   ],
   "source": [
    "test_loss, test_accuracy = model.evaluate(X_test, y_test)\n",
    "print(f'Test accuracy: {test_accuracy * 100:.2f}%')"
   ]
  },
  {
   "cell_type": "code",
   "execution_count": null,
   "metadata": {},
   "outputs": [
    {
     "name": "stdout",
     "output_type": "stream",
     "text": [
      "\u001b[1m956/956\u001b[0m \u001b[32m━━━━━━━━━━━━━━━━━━━━\u001b[0m\u001b[37m\u001b[0m \u001b[1m1s\u001b[0m 642us/step\n",
      "F1 Score: 0.9869360046361454\n"
     ]
    }
   ],
   "source": [
    "y_pred_prob = model.predict(X_test)\n",
    "\n",
    "\n",
    "\n",
    "y_pred = (y_pred_prob > 0.5).astype(int)\n",
    "\n",
    "\n",
    "f1 = f1_score(y_test, y_pred)\n",
    "\n",
    "print(f'F1 Score: {f1}')"
   ]
  },
  {
   "cell_type": "code",
   "execution_count": null,
   "metadata": {},
   "outputs": [],
   "source": [
    "dates = pd.date_range(start='2024-01-01', end='2024-02-28').strftime('%Y-%m-%d').tolist()\n",
    "\n"
   ]
  },
  {
   "cell_type": "code",
   "execution_count": null,
   "metadata": {},
   "outputs": [
    {
     "name": "stdout",
     "output_type": "stream",
     "text": [
      "\u001b[1m1/1\u001b[0m \u001b[32m━━━━━━━━━━━━━━━━━━━━\u001b[0m\u001b[37m\u001b[0m \u001b[1m0s\u001b[0m 18ms/step\n",
      "Probability of being present on 2024-01-01: 0.5596\n",
      "\u001b[1m1/1\u001b[0m \u001b[32m━━━━━━━━━━━━━━━━━━━━\u001b[0m\u001b[37m\u001b[0m \u001b[1m0s\u001b[0m 27ms/step\n",
      "Probability of being present on 2024-01-02: 0.8333\n",
      "\u001b[1m1/1\u001b[0m \u001b[32m━━━━━━━━━━━━━━━━━━━━\u001b[0m\u001b[37m\u001b[0m \u001b[1m0s\u001b[0m 24ms/step\n",
      "Probability of being present on 2024-01-03: 0.9908\n",
      "\u001b[1m1/1\u001b[0m \u001b[32m━━━━━━━━━━━━━━━━━━━━\u001b[0m\u001b[37m\u001b[0m \u001b[1m0s\u001b[0m 11ms/step\n",
      "Probability of being present on 2024-01-04: 0.9981\n",
      "\u001b[1m1/1\u001b[0m \u001b[32m━━━━━━━━━━━━━━━━━━━━\u001b[0m\u001b[37m\u001b[0m \u001b[1m0s\u001b[0m 28ms/step\n",
      "Probability of being present on 2024-01-05: 0.9964\n",
      "weekend\n",
      "weekend\n",
      "\u001b[1m1/1\u001b[0m \u001b[32m━━━━━━━━━━━━━━━━━━━━\u001b[0m\u001b[37m\u001b[0m \u001b[1m0s\u001b[0m 25ms/step\n",
      "Probability of being present on 2024-01-08: 0.9052\n",
      "\u001b[1m1/1\u001b[0m \u001b[32m━━━━━━━━━━━━━━━━━━━━\u001b[0m\u001b[37m\u001b[0m \u001b[1m0s\u001b[0m 37ms/step\n",
      "Probability of being present on 2024-01-09: 0.9619\n",
      "\u001b[1m1/1\u001b[0m \u001b[32m━━━━━━━━━━━━━━━━━━━━\u001b[0m\u001b[37m\u001b[0m \u001b[1m0s\u001b[0m 22ms/step\n",
      "Probability of being present on 2024-01-10: 0.9792\n",
      "\u001b[1m1/1\u001b[0m \u001b[32m━━━━━━━━━━━━━━━━━━━━\u001b[0m\u001b[37m\u001b[0m \u001b[1m0s\u001b[0m 16ms/step\n",
      "Probability of being present on 2024-01-11: 0.9874\n",
      "\u001b[1m1/1\u001b[0m \u001b[32m━━━━━━━━━━━━━━━━━━━━\u001b[0m\u001b[37m\u001b[0m \u001b[1m0s\u001b[0m 23ms/step\n",
      "Probability of being present on 2024-01-12: 0.9929\n",
      "weekend\n",
      "weekend\n",
      "\u001b[1m1/1\u001b[0m \u001b[32m━━━━━━━━━━━━━━━━━━━━\u001b[0m\u001b[37m\u001b[0m \u001b[1m0s\u001b[0m 9ms/step\n",
      "Probability of being present on 2024-01-15: 0.9601\n",
      "\u001b[1m1/1\u001b[0m \u001b[32m━━━━━━━━━━━━━━━━━━━━\u001b[0m\u001b[37m\u001b[0m \u001b[1m0s\u001b[0m 12ms/step\n",
      "Probability of being present on 2024-01-16: 0.9776\n",
      "\u001b[1m1/1\u001b[0m \u001b[32m━━━━━━━━━━━━━━━━━━━━\u001b[0m\u001b[37m\u001b[0m \u001b[1m0s\u001b[0m 14ms/step\n",
      "Probability of being present on 2024-01-17: 0.9875\n",
      "\u001b[1m1/1\u001b[0m \u001b[32m━━━━━━━━━━━━━━━━━━━━\u001b[0m\u001b[37m\u001b[0m \u001b[1m0s\u001b[0m 16ms/step\n",
      "Probability of being present on 2024-01-18: 0.9926\n",
      "\u001b[1m1/1\u001b[0m \u001b[32m━━━━━━━━━━━━━━━━━━━━\u001b[0m\u001b[37m\u001b[0m \u001b[1m0s\u001b[0m 44ms/step\n",
      "Probability of being present on 2024-01-19: 0.9954\n",
      "weekend\n",
      "weekend\n",
      "\u001b[1m1/1\u001b[0m \u001b[32m━━━━━━━━━━━━━━━━━━━━\u001b[0m\u001b[37m\u001b[0m \u001b[1m0s\u001b[0m 42ms/step\n",
      "Probability of being present on 2024-01-22: 0.9668\n",
      "\u001b[1m1/1\u001b[0m \u001b[32m━━━━━━━━━━━━━━━━━━━━\u001b[0m\u001b[37m\u001b[0m \u001b[1m0s\u001b[0m 51ms/step\n",
      "Probability of being present on 2024-01-23: 0.9780\n",
      "\u001b[1m1/1\u001b[0m \u001b[32m━━━━━━━━━━━━━━━━━━━━\u001b[0m\u001b[37m\u001b[0m \u001b[1m0s\u001b[0m 8ms/step\n",
      "Probability of being present on 2024-01-24: 0.9858\n",
      "\u001b[1m1/1\u001b[0m \u001b[32m━━━━━━━━━━━━━━━━━━━━\u001b[0m\u001b[37m\u001b[0m \u001b[1m0s\u001b[0m 24ms/step\n",
      "Probability of being present on 2024-01-25: 0.9916\n",
      "\u001b[1m1/1\u001b[0m \u001b[32m━━━━━━━━━━━━━━━━━━━━\u001b[0m\u001b[37m\u001b[0m \u001b[1m0s\u001b[0m 18ms/step\n",
      "Probability of being present on 2024-01-26: 0.9954\n",
      "weekend\n",
      "weekend\n",
      "\u001b[1m1/1\u001b[0m \u001b[32m━━━━━━━━━━━━━━━━━━━━\u001b[0m\u001b[37m\u001b[0m \u001b[1m0s\u001b[0m 20ms/step\n",
      "Probability of being present on 2024-01-29: 0.9816\n",
      "\u001b[1m1/1\u001b[0m \u001b[32m━━━━━━━━━━━━━━━━━━━━\u001b[0m\u001b[37m\u001b[0m \u001b[1m0s\u001b[0m 34ms/step\n",
      "Probability of being present on 2024-01-30: 0.9876\n",
      "\u001b[1m1/1\u001b[0m \u001b[32m━━━━━━━━━━━━━━━━━━━━\u001b[0m\u001b[37m\u001b[0m \u001b[1m0s\u001b[0m 17ms/step\n",
      "Probability of being present on 2024-01-31: 0.9917\n",
      "\u001b[1m1/1\u001b[0m \u001b[32m━━━━━━━━━━━━━━━━━━━━\u001b[0m\u001b[37m\u001b[0m \u001b[1m0s\u001b[0m 19ms/step\n",
      "Probability of being present on 2024-02-01: 0.8033\n",
      "\u001b[1m1/1\u001b[0m \u001b[32m━━━━━━━━━━━━━━━━━━━━\u001b[0m\u001b[37m\u001b[0m \u001b[1m0s\u001b[0m 9ms/step\n",
      "Probability of being present on 2024-02-02: 0.7905\n",
      "weekend\n",
      "weekend\n",
      "\u001b[1m1/1\u001b[0m \u001b[32m━━━━━━━━━━━━━━━━━━━━\u001b[0m\u001b[37m\u001b[0m \u001b[1m0s\u001b[0m 17ms/step\n",
      "Probability of being present on 2024-02-05: 0.9127\n",
      "\u001b[1m1/1\u001b[0m \u001b[32m━━━━━━━━━━━━━━━━━━━━\u001b[0m\u001b[37m\u001b[0m \u001b[1m0s\u001b[0m 23ms/step\n",
      "Probability of being present on 2024-02-06: 0.8826\n",
      "\u001b[1m1/1\u001b[0m \u001b[32m━━━━━━━━━━━━━━━━━━━━\u001b[0m\u001b[37m\u001b[0m \u001b[1m0s\u001b[0m 17ms/step\n",
      "Probability of being present on 2024-02-07: 0.9702\n",
      "\u001b[1m1/1\u001b[0m \u001b[32m━━━━━━━━━━━━━━━━━━━━\u001b[0m\u001b[37m\u001b[0m \u001b[1m0s\u001b[0m 9ms/step\n",
      "Probability of being present on 2024-02-08: 0.8578\n",
      "\u001b[1m1/1\u001b[0m \u001b[32m━━━━━━━━━━━━━━━━━━━━\u001b[0m\u001b[37m\u001b[0m \u001b[1m0s\u001b[0m 6ms/step\n",
      "Probability of being present on 2024-02-09: 0.9575\n",
      "weekend\n",
      "weekend\n",
      "\u001b[1m1/1\u001b[0m \u001b[32m━━━━━━━━━━━━━━━━━━━━\u001b[0m\u001b[37m\u001b[0m \u001b[1m0s\u001b[0m 34ms/step\n",
      "Probability of being present on 2024-02-12: 0.9626\n",
      "\u001b[1m1/1\u001b[0m \u001b[32m━━━━━━━━━━━━━━━━━━━━\u001b[0m\u001b[37m\u001b[0m \u001b[1m0s\u001b[0m 28ms/step\n",
      "Probability of being present on 2024-02-13: 0.9789\n",
      "\u001b[1m1/1\u001b[0m \u001b[32m━━━━━━━━━━━━━━━━━━━━\u001b[0m\u001b[37m\u001b[0m \u001b[1m0s\u001b[0m 27ms/step\n",
      "Probability of being present on 2024-02-14: 0.9880\n",
      "\u001b[1m1/1\u001b[0m \u001b[32m━━━━━━━━━━━━━━━━━━━━\u001b[0m\u001b[37m\u001b[0m \u001b[1m0s\u001b[0m 15ms/step\n",
      "Probability of being present on 2024-02-15: 0.9901\n",
      "\u001b[1m1/1\u001b[0m \u001b[32m━━━━━━━━━━━━━━━━━━━━\u001b[0m\u001b[37m\u001b[0m \u001b[1m0s\u001b[0m 20ms/step\n",
      "Probability of being present on 2024-02-16: 0.9939\n",
      "weekend\n",
      "weekend\n",
      "\u001b[1m1/1\u001b[0m \u001b[32m━━━━━━━━━━━━━━━━━━━━\u001b[0m\u001b[37m\u001b[0m \u001b[1m0s\u001b[0m 15ms/step\n",
      "Probability of being present on 2024-02-19: 0.9606\n",
      "\u001b[1m1/1\u001b[0m \u001b[32m━━━━━━━━━━━━━━━━━━━━\u001b[0m\u001b[37m\u001b[0m \u001b[1m0s\u001b[0m 15ms/step\n",
      "Probability of being present on 2024-02-20: 0.9769\n",
      "\u001b[1m1/1\u001b[0m \u001b[32m━━━━━━━━━━━━━━━━━━━━\u001b[0m\u001b[37m\u001b[0m \u001b[1m0s\u001b[0m 16ms/step\n",
      "Probability of being present on 2024-02-21: 0.9878\n",
      "\u001b[1m1/1\u001b[0m \u001b[32m━━━━━━━━━━━━━━━━━━━━\u001b[0m\u001b[37m\u001b[0m \u001b[1m0s\u001b[0m 52ms/step\n",
      "Probability of being present on 2024-02-22: 0.9921\n",
      "\u001b[1m1/1\u001b[0m \u001b[32m━━━━━━━━━━━━━━━━━━━━\u001b[0m\u001b[37m\u001b[0m \u001b[1m0s\u001b[0m 35ms/step\n",
      "Probability of being present on 2024-02-23: 0.9956\n",
      "weekend\n",
      "weekend\n",
      "\u001b[1m1/1\u001b[0m \u001b[32m━━━━━━━━━━━━━━━━━━━━\u001b[0m\u001b[37m\u001b[0m \u001b[1m0s\u001b[0m 16ms/step\n",
      "Probability of being present on 2024-02-26: 0.9775\n",
      "\u001b[1m1/1\u001b[0m \u001b[32m━━━━━━━━━━━━━━━━━━━━\u001b[0m\u001b[37m\u001b[0m \u001b[1m0s\u001b[0m 13ms/step\n",
      "Probability of being present on 2024-02-27: 0.9849\n",
      "\u001b[1m1/1\u001b[0m \u001b[32m━━━━━━━━━━━━━━━━━━━━\u001b[0m\u001b[37m\u001b[0m \u001b[1m0s\u001b[0m 9ms/step\n",
      "Probability of being present on 2024-02-28: 0.9902\n"
     ]
    }
   ],
   "source": [
    "import pandas as pd\n",
    "from datetime import timedelta\n",
    "\n",
    "\n",
    "def get_second_friday_of_august(year):\n",
    "    august_1st = pd.to_datetime(f'{year}-08-01')\n",
    "    first_friday = august_1st + timedelta(days=(4 - august_1st.weekday()) % 7)\n",
    "    second_friday = first_friday + timedelta(weeks=1)\n",
    "    return second_friday\n",
    "\n",
    "\n",
    "def get_third_friday_of_december(year):\n",
    "    december_1st = pd.to_datetime(f'{year}-12-01')\n",
    "    first_friday = december_1st + timedelta(days=(4 - december_1st.weekday()) % 7)\n",
    "    third_friday = first_friday + timedelta(weeks=2)\n",
    "    return third_friday\n",
    "\n",
    "\n",
    "def get_first_monday_of_january(year):\n",
    "    january_1st = pd.to_datetime(f'{year+1}-01-01')\n",
    "    first_monday = january_1st + timedelta(days=(7 - january_1st.weekday()) % 7)\n",
    "    return first_monday\n",
    "\n",
    "\n",
    "def check_vacation_or_weekend(date, vacation_ranges):\n",
    "    date = pd.to_datetime(date)\n",
    "    \n",
    "    \n",
    "    if date.weekday() >= 5:  \n",
    "        return \"weekend\"\n",
    "    \n",
    "    \n",
    "    for start, end in vacation_ranges:\n",
    "        if start <= date <= end:\n",
    "            return \"vacation\"\n",
    "    \n",
    "    return \"working day\"\n",
    "\n",
    "\n",
    "def extract_date_features(date):\n",
    "    \n",
    "    date = pd.to_datetime(date)\n",
    "\n",
    "    \n",
    "    features = {\n",
    "        'DayOfWeek': date.weekday(),  \n",
    "        'DayOfMonth': date.day,\n",
    "        'WeekOfMonth': (date.day - 1) // 7 + 1,  \n",
    "        'Month': date.month\n",
    "    }\n",
    "    return features\n",
    "\n",
    "\n",
    "def predict_absenteeism(date, model, vacation_ranges):\n",
    "    \n",
    "    year = pd.to_datetime(date).year\n",
    "    \n",
    "    \n",
    "    status = check_vacation_or_weekend(date, vacation_ranges)\n",
    "    \n",
    "    if status != \"working day\":\n",
    "        return status\n",
    "    \n",
    "    \n",
    "    date_features = extract_date_features(date)\n",
    "    date_features_df = pd.DataFrame([date_features])\n",
    "    \n",
    "    \n",
    "    prediction = model.predict(date_features_df)  \n",
    "    probability_present = prediction[0][0]  \n",
    "    \n",
    "    return f\"Probability of being present on {date}: {probability_present:.4f}\"\n",
    "\n",
    "\n",
    "def get_vacation_ranges(date):\n",
    "    year = pd.to_datetime(date).year\n",
    "    \n",
    "    \n",
    "    summer_vacation_start = get_second_friday_of_august(year)\n",
    "    summer_vacation_end = summer_vacation_start + timedelta(weeks=2)\n",
    "\n",
    "    winter_vacation_start = get_third_friday_of_december(year)\n",
    "    winter_vacation_end = get_first_monday_of_january(year)\n",
    "\n",
    "    return [\n",
    "        (summer_vacation_start, summer_vacation_end),\n",
    "        (winter_vacation_start, winter_vacation_end)\n",
    "    ]\n",
    "\n",
    "\n",
    "chosen_date = dates\n",
    "p=[]\n",
    "for date in chosen_date:\n",
    "\n",
    "\n",
    "    vacation_ranges = get_vacation_ranges(date)\n",
    "\n",
    "    \n",
    "    result = predict_absenteeism(date, model, vacation_ranges)\n",
    "    print(result)\n"
   ]
  },
  {
   "cell_type": "markdown",
   "metadata": {},
   "source": [
    "I will save the cnn model"
   ]
  },
  {
   "cell_type": "code",
   "execution_count": 194,
   "metadata": {},
   "outputs": [],
   "source": [
    "model.save('cnn_presence_model.keras')\n",
    "\n"
   ]
  },
  {
   "cell_type": "code",
   "execution_count": 198,
   "metadata": {},
   "outputs": [
    {
     "name": "stderr",
     "output_type": "stream",
     "text": [
      "c:\\Users\\LENOVO\\AppData\\Local\\Programs\\Python\\Python312\\Lib\\site-packages\\keras\\src\\saving\\saving_lib.py:719: UserWarning: Skipping variable loading for optimizer 'rmsprop', because it has 8 variables whereas the saved optimizer has 14 variables. \n",
      "  saveable.load_own_variables(weights_store.get(inner_path))\n"
     ]
    }
   ],
   "source": [
    "loaded_model = load_model('cnn_presence_model.keras')"
   ]
  },
  {
   "cell_type": "markdown",
   "metadata": {},
   "source": [
    "**The CNN model was chosen over XGBoost as it provides more realistic and nuanced probabilities, capturing patterns and uncertainties better suited for the temporal nature of the absenteeism data.**"
   ]
  },
  {
   "cell_type": "code",
   "execution_count": null,
   "metadata": {},
   "outputs": [],
   "source": [
    "\n",
    "\n",
    "def get_second_friday_of_august(year):\n",
    "    august_1st = pd.to_datetime(f'{year}-08-01')\n",
    "    first_friday = august_1st + timedelta(days=(4 - august_1st.weekday()) % 7)\n",
    "    return first_friday + timedelta(weeks=1)\n",
    "\n",
    "def get_third_friday_of_december(year):\n",
    "    december_1st = pd.to_datetime(f'{year}-12-01')\n",
    "    first_friday = december_1st + timedelta(days=(4 - december_1st.weekday()) % 7)\n",
    "    return first_friday + timedelta(weeks=2)\n",
    "\n",
    "def get_first_monday_of_january(year):\n",
    "    january_1st = pd.to_datetime(f'{year+1}-01-01')\n",
    "    return january_1st + timedelta(days=(7 - january_1st.weekday()) % 7)\n",
    "\n",
    "\n",
    "def check_vacation_or_weekend(date, vacation_ranges):\n",
    "    date = pd.to_datetime(date)\n",
    "    if date.weekday() >= 5:  \n",
    "        return \"weekend\"\n",
    "    for start, end in vacation_ranges:\n",
    "        if start <= date <= end:\n",
    "            return \"vacation\"\n",
    "    return \"working day\"\n",
    "\n",
    "\n",
    "def extract_date_features(date):\n",
    "    date = pd.to_datetime(date)\n",
    "    return {\n",
    "        'DayOfWeek': date.weekday(),\n",
    "        'DayOfMonth': date.day,\n",
    "        'WeekOfMonth': (date.day - 1) // 7 + 1,\n",
    "        'Month': date.month\n",
    "    }\n",
    "\n",
    "\n",
    "def predict_absenteeism(date, model):\n",
    "    date = pd.to_datetime(date)\n",
    "    year = date.year\n",
    "\n",
    "    \n",
    "    vacation_ranges = [\n",
    "        (get_second_friday_of_august(year), get_second_friday_of_august(year) + timedelta(weeks=2)),\n",
    "        (get_third_friday_of_december(year), get_first_monday_of_january(year))\n",
    "    ]\n",
    "\n",
    "    \n",
    "    status = check_vacation_or_weekend(date, vacation_ranges)\n",
    "    if status != \"working day\":\n",
    "        return status\n",
    "\n",
    "    \n",
    "    features = extract_date_features(date)\n",
    "    features_df = pd.DataFrame([features])\n",
    "\n",
    "    \n",
    "    prediction = model.predict(features_df)\n",
    "    probability_present = prediction[0][0]  \n",
    "\n",
    "    return f\" on {date.date()}: {(probability_present)*100:.2f}% of being present, {(1-probability_present)*100:.2f}% of being absent\"\n",
    "\n",
    "\n",
    "\n",
    "\n"
   ]
  },
  {
   "cell_type": "code",
   "execution_count": 199,
   "metadata": {},
   "outputs": [
    {
     "name": "stdout",
     "output_type": "stream",
     "text": [
      "\u001b[1m1/1\u001b[0m \u001b[32m━━━━━━━━━━━━━━━━━━━━\u001b[0m\u001b[37m\u001b[0m \u001b[1m0s\u001b[0m 70ms/step\n",
      " on 2024-01-01: 55.96% of being present, 44.04% of being absent\n"
     ]
    }
   ],
   "source": [
    "date=str(input())\n",
    "print(predict_absenteeism(date, loaded_model))\n"
   ]
  },
  {
   "cell_type": "code",
   "execution_count": 10,
   "metadata": {},
   "outputs": [
    {
     "name": "stdout",
     "output_type": "stream",
     "text": [
      "weekend\n",
      "\u001b[1m1/1\u001b[0m \u001b[32m━━━━━━━━━━━━━━━━━━━━\u001b[0m\u001b[37m\u001b[0m \u001b[1m0s\u001b[0m 217ms/step\n",
      " on 2026-05-15: 99.34% of being present, 0.66% of being absent\n",
      "\u001b[1m1/1\u001b[0m \u001b[32m━━━━━━━━━━━━━━━━━━━━\u001b[0m\u001b[37m\u001b[0m \u001b[1m0s\u001b[0m 21ms/step\n",
      " on 2014-02-06: 86.14% of being present, 13.86% of being absent\n"
     ]
    },
    {
     "ename": "",
     "evalue": "",
     "output_type": "error",
     "traceback": [
      "\u001b[1;31mThe Kernel crashed while executing code in the current cell or a previous cell. \n",
      "\u001b[1;31mPlease review the code in the cell(s) to identify a possible cause of the failure. \n",
      "\u001b[1;31mClick <a href='https://aka.ms/vscodeJupyterKernelCrash'>here</a> for more info. \n",
      "\u001b[1;31mView Jupyter <a href='command:jupyter.viewOutput'>log</a> for further details."
     ]
    }
   ],
   "source": [
    "import pandas as pd\n",
    "from datetime import timedelta\n",
    "import tensorflow as tf\n",
    "from tensorflow.keras.models import Sequential, load_model\n",
    "from tensorflow.keras.layers import Conv1D, Flatten, Dense, MaxPooling1D\n",
    "from sklearn.model_selection import train_test_split\n",
    "from sklearn.preprocessing import StandardScaler\n",
    "import pandas as pd\n",
    "import numpy as np\n",
    "\n",
    "loaded_model=load_model(\"cnn_presence_model.keras\")\n",
    "def get_second_friday_of_august(year):\n",
    "    august_1st = pd.to_datetime(f'{year}-08-01')\n",
    "    first_friday = august_1st + timedelta(days=(4 - august_1st.weekday()) % 7)\n",
    "    return first_friday + timedelta(weeks=1)\n",
    "\n",
    "def get_third_friday_of_december(year):\n",
    "    december_1st = pd.to_datetime(f'{year}-12-01')\n",
    "    first_friday = december_1st + timedelta(days=(4 - december_1st.weekday()) % 7)\n",
    "    return first_friday + timedelta(weeks=2)\n",
    "\n",
    "def get_first_monday_of_january(year):\n",
    "    january_1st = pd.to_datetime(f'{year+1}-01-01')\n",
    "    return january_1st + timedelta(days=(7 - january_1st.weekday()) % 7)\n",
    "\n",
    "\n",
    "def check_vacation_or_weekend(date, vacation_ranges):\n",
    "    date = pd.to_datetime(date)\n",
    "    if date.weekday() >= 5:  \n",
    "        return \"weekend\"\n",
    "    for start, end in vacation_ranges:\n",
    "        if start <= date <= end:\n",
    "            return \"vacation\"\n",
    "    return \"working day\"\n",
    "\n",
    "\n",
    "def extract_date_features(date):\n",
    "    date = pd.to_datetime(date)\n",
    "    return {\n",
    "        'DayOfWeek': date.weekday(),\n",
    "        'DayOfMonth': date.day,\n",
    "        'WeekOfMonth': (date.day - 1) // 7 + 1,\n",
    "        'Month': date.month\n",
    "    }\n",
    "\n",
    "\n",
    "def predict_absenteeism(date, model):\n",
    "    date = pd.to_datetime(date)\n",
    "    year = date.year\n",
    "\n",
    "    \n",
    "    vacation_ranges = [\n",
    "        (get_second_friday_of_august(year), get_second_friday_of_august(year) + timedelta(weeks=2)),\n",
    "        (get_third_friday_of_december(year), get_first_monday_of_january(year))\n",
    "    ]\n",
    "\n",
    "    \n",
    "    status = check_vacation_or_weekend(date, vacation_ranges)\n",
    "    if status != \"working day\":\n",
    "        return status\n",
    "\n",
    "    \n",
    "    features = extract_date_features(date)\n",
    "    features_df = pd.DataFrame([features])\n",
    "\n",
    "    \n",
    "    prediction = model.predict(features_df)\n",
    "    probability_present = prediction[0][0]  \n",
    "\n",
    "    return f\" on {date.date()}: {(probability_present)*100:.2f}% of being present, {(1-probability_present)*100:.2f}% of being absent\"\n",
    "while True:\n",
    "    date=str(input())\n",
    "    print(predict_absenteeism(date, loaded_model))\n"
   ]
  },
  {
   "cell_type": "code",
   "execution_count": null,
   "metadata": {},
   "outputs": [],
   "source": []
  }
 ],
 "metadata": {
  "kernelspec": {
   "display_name": "Python 3",
   "language": "python",
   "name": "python3"
  },
  "language_info": {
   "codemirror_mode": {
    "name": "ipython",
    "version": 3
   },
   "file_extension": ".py",
   "mimetype": "text/x-python",
   "name": "python",
   "nbconvert_exporter": "python",
   "pygments_lexer": "ipython3",
   "version": "3.12.3"
  }
 },
 "nbformat": 4,
 "nbformat_minor": 2
}
